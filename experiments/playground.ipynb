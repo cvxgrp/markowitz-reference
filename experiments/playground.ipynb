{
 "cells": [
  {
   "cell_type": "code",
   "execution_count": 1,
   "metadata": {},
   "outputs": [],
   "source": [
    "import cvxpy as cp\n",
    "from cvx.markowitz.backtest import *\n",
    "\n",
    "%load_ext autoreload\n",
    "%autoreload 2"
   ]
  },
  {
   "cell_type": "code",
   "execution_count": 7,
   "metadata": {},
   "outputs": [
    {
     "name": "stdout",
     "output_type": "stream",
     "text": [
      "(10,)\n"
     ]
    },
    {
     "ename": "ValueError",
     "evalue": "Scalar operands are not allowed, use '*' instead",
     "output_type": "error",
     "traceback": [
      "\u001b[0;31m---------------------------------------------------------------------------\u001b[0m",
      "\u001b[0;31mValueError\u001b[0m                                Traceback (most recent call last)",
      "Cell \u001b[0;32mIn[7], line 1\u001b[0m\n\u001b[0;32m----> 1\u001b[0m markowitz \u001b[39m=\u001b[39m Markowitz(n_assets\u001b[39m=\u001b[39;49m\u001b[39m10\u001b[39;49m, n_factors\u001b[39m=\u001b[39;49m\u001b[39m3\u001b[39;49m)\n",
      "File \u001b[0;32m~/Documents/Stanford/Research/My papers/markowitz/reference_implementation/markowitz-reference/cvx/markowitz/backtest.py:35\u001b[0m, in \u001b[0;36mMarkowitz.__init__\u001b[0;34m(self, n_assets, n_factors)\u001b[0m\n\u001b[1;32m     33\u001b[0m \u001b[39mdef\u001b[39;00m \u001b[39m__init__\u001b[39m(\u001b[39mself\u001b[39m, n_assets, n_factors) \u001b[39m-\u001b[39m\u001b[39m>\u001b[39m \u001b[39mNone\u001b[39;00m:\n\u001b[0;32m---> 35\u001b[0m     \u001b[39mself\u001b[39m\u001b[39m.\u001b[39mparameterized_problem \u001b[39m=\u001b[39m \u001b[39mself\u001b[39;49m\u001b[39m.\u001b[39;49m_build(n_assets, n_factors)\n",
      "File \u001b[0;32m~/Documents/Stanford/Research/My papers/markowitz/reference_implementation/markowitz-reference/cvx/markowitz/backtest.py:105\u001b[0m, in \u001b[0;36mMarkowitz._build\u001b[0;34m(n_assets, n_factors)\u001b[0m\n\u001b[1;32m     90\u001b[0m risk \u001b[39m=\u001b[39m cp\u001b[39m.\u001b[39mnorm2(\n\u001b[1;32m     91\u001b[0m     cp\u001b[39m.\u001b[39mhstack(\n\u001b[1;32m     92\u001b[0m         [\n\u001b[0;32m   (...)\u001b[0m\n\u001b[1;32m     96\u001b[0m     )\n\u001b[1;32m     97\u001b[0m )\n\u001b[1;32m     99\u001b[0m \u001b[39mprint\u001b[39m((variances\u001b[39m*\u001b[39m\u001b[39m*\u001b[39m\u001b[39m0.5\u001b[39m \u001b[39m*\u001b[39m rho_covariance\u001b[39m*\u001b[39m\u001b[39m*\u001b[39m\u001b[39m0.5\u001b[39m)\u001b[39m.\u001b[39mshape)\n\u001b[1;32m    101\u001b[0m risk_wc \u001b[39m=\u001b[39m cp\u001b[39m.\u001b[39mnorm2(\n\u001b[1;32m    102\u001b[0m     cp\u001b[39m.\u001b[39mhstack(\n\u001b[1;32m    103\u001b[0m         [\n\u001b[1;32m    104\u001b[0m             risk, \n\u001b[0;32m--> 105\u001b[0m             volas_times_sqrt_rho\u001b[39m@_abs_weights\u001b[39;49m\n\u001b[1;32m    106\u001b[0m             ]\n\u001b[1;32m    107\u001b[0m     )\n\u001b[1;32m    108\u001b[0m )\n\u001b[1;32m    111\u001b[0m \u001b[39m### Costs\u001b[39;00m\n\u001b[1;32m    112\u001b[0m holding_cost \u001b[39m=\u001b[39m kappa_short \u001b[39m@\u001b[39m cp\u001b[39m.\u001b[39mpos(\u001b[39m-\u001b[39masset_weights) \u001b[39m+\u001b[39m kappa_brw\u001b[39m*\u001b[39mcp\u001b[39m.\u001b[39mpos(\u001b[39m-\u001b[39mcash_weight)\n",
      "File \u001b[0;32m~/Documents/Stanford/Research/My papers/markowitz/reference_implementation/markowitz-reference/.venv/lib/python3.9/site-packages/cvxpy/expressions/expression.py:50\u001b[0m, in \u001b[0;36m_cast_other.<locals>.cast_op\u001b[0;34m(self, other)\u001b[0m\n\u001b[1;32m     47\u001b[0m \u001b[39m\u001b[39m\u001b[39m\"\"\"A wrapped binary operator that can handle non-Expression arguments.\u001b[39;00m\n\u001b[1;32m     48\u001b[0m \u001b[39m\"\"\"\u001b[39;00m\n\u001b[1;32m     49\u001b[0m other \u001b[39m=\u001b[39m \u001b[39mself\u001b[39m\u001b[39m.\u001b[39mcast_to_const(other)\n\u001b[0;32m---> 50\u001b[0m \u001b[39mreturn\u001b[39;00m binary_op(\u001b[39mself\u001b[39;49m, other)\n",
      "File \u001b[0;32m~/Documents/Stanford/Research/My papers/markowitz/reference_implementation/markowitz-reference/.venv/lib/python3.9/site-packages/cvxpy/expressions/expression.py:628\u001b[0m, in \u001b[0;36mExpression.__matmul__\u001b[0;34m(self, other)\u001b[0m\n\u001b[1;32m    625\u001b[0m \u001b[39m\u001b[39m\u001b[39m\"\"\"Expression : Matrix multiplication of two expressions.\u001b[39;00m\n\u001b[1;32m    626\u001b[0m \u001b[39m\"\"\"\u001b[39;00m\n\u001b[1;32m    627\u001b[0m \u001b[39mif\u001b[39;00m \u001b[39mself\u001b[39m\u001b[39m.\u001b[39mshape \u001b[39m==\u001b[39m () \u001b[39mor\u001b[39;00m other\u001b[39m.\u001b[39mshape \u001b[39m==\u001b[39m ():\n\u001b[0;32m--> 628\u001b[0m     \u001b[39mraise\u001b[39;00m \u001b[39mValueError\u001b[39;00m(\u001b[39m\"\u001b[39m\u001b[39mScalar operands are not allowed, use \u001b[39m\u001b[39m'\u001b[39m\u001b[39m*\u001b[39m\u001b[39m'\u001b[39m\u001b[39m instead\u001b[39m\u001b[39m\"\u001b[39m)\n\u001b[1;32m    630\u001b[0m \u001b[39mif\u001b[39;00m \u001b[39misinstance\u001b[39m(\u001b[39mself\u001b[39m, cvxtypes\u001b[39m.\u001b[39mmatmul_expr()):\n\u001b[1;32m    631\u001b[0m     \u001b[39m# LHS is matrix multiplication expr, so candidate for QuadForm:\u001b[39;00m\n\u001b[1;32m    632\u001b[0m     \u001b[39m# Specifically, iff the matrix multiplication is of the form x.T @ A @ y\u001b[39;00m\n\u001b[1;32m    633\u001b[0m     \u001b[39m# such that x == y, A is constant matrix and x is a variable, then it is a QuadForm.\u001b[39;00m\n\u001b[1;32m    634\u001b[0m     \u001b[39mif\u001b[39;00m \u001b[39mself\u001b[39m\u001b[39m.\u001b[39margs[\u001b[39m0\u001b[39m] \u001b[39mis\u001b[39;00m other \u001b[39mand\u001b[39;00m \u001b[39mnot\u001b[39;00m other\u001b[39m.\u001b[39mis_constant() \u001b[39mand\u001b[39;00m \u001b[39mself\u001b[39m\u001b[39m.\u001b[39margs[\u001b[39m1\u001b[39m]\u001b[39m.\u001b[39mis_constant():\n",
      "\u001b[0;31mValueError\u001b[0m: Scalar operands are not allowed, use '*' instead"
     ]
    }
   ],
   "source": [
    "markowitz = Markowitz(n_assets=10, n_factors=3)"
   ]
  },
  {
   "cell_type": "code",
   "execution_count": 18,
   "metadata": {},
   "outputs": [
    {
     "data": {
      "text/plain": [
       "(10,)"
      ]
     },
     "execution_count": 18,
     "metadata": {},
     "output_type": "execute_result"
    }
   ],
   "source": [
    "a = cp.Parameter(10)\n",
    "b = cp.Parameter()\n",
    "\n",
    "c = cp.CallbackParam(shape=10, callback=lambda:\n",
    "                     a.value*b.value, name=\"volas_times_sqrt_rho\")\n",
    "\n",
    "c.shape"
   ]
  },
  {
   "cell_type": "code",
   "execution_count": null,
   "metadata": {},
   "outputs": [],
   "source": [
    "volas_times_sqrt_rho = cp.CallbackParam(callback=lambda:\n",
    "                                                variances.value**0.5 * rho_covariance.value**0.5, name=\"volas_times_sqrt_rho\")"
   ]
  },
  {
   "cell_type": "code",
   "execution_count": 18,
   "metadata": {},
   "outputs": [],
   "source": [
    "a = cp.Parameter()\n",
    "b = cp.Parameter()\n",
    "\n",
    "c = a*b\n",
    "\n",
    "d = cp.CallbackParam(callback=lambda: c.value*b.value)"
   ]
  },
  {
   "cell_type": "code",
   "execution_count": 19,
   "metadata": {},
   "outputs": [],
   "source": [
    "a.value=3\n",
    "b.value=4"
   ]
  },
  {
   "cell_type": "code",
   "execution_count": 22,
   "metadata": {},
   "outputs": [
    {
     "data": {
      "text/plain": [
       "Expression(CONVEX, NONNEGATIVE, ())"
      ]
     },
     "execution_count": 22,
     "metadata": {},
     "output_type": "execute_result"
    }
   ],
   "source": [
    "x = cp.Variable()\n",
    "\n"
   ]
  },
  {
   "cell_type": "code",
   "execution_count": 21,
   "metadata": {},
   "outputs": [
    {
     "data": {
      "text/plain": [
       "12"
      ]
     },
     "execution_count": 21,
     "metadata": {},
     "output_type": "execute_result"
    }
   ],
   "source": [
    "c.value"
   ]
  }
 ],
 "metadata": {
  "kernelspec": {
   "display_name": ".venv",
   "language": "python",
   "name": "python3"
  },
  "language_info": {
   "codemirror_mode": {
    "name": "ipython",
    "version": 3
   },
   "file_extension": ".py",
   "mimetype": "text/x-python",
   "name": "python",
   "nbconvert_exporter": "python",
   "pygments_lexer": "ipython3",
   "version": "3.9.12"
  },
  "orig_nbformat": 4
 },
 "nbformat": 4,
 "nbformat_minor": 2
}
