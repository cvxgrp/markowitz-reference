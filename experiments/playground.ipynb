{
 "cells": [
  {
   "cell_type": "code",
   "execution_count": 1,
   "metadata": {},
   "outputs": [],
   "source": [
    "import pandas as pd\n",
    "import numpy as np\n",
    "import matplotlib.pyplot as plt\n",
    "\n",
    "from markowitz import Data, Parameters, markowitz\n",
    "from experiments.utils import synthetic_returns\n",
    "from experiments.backtest import interest_and_fees, OptimizationInput, create_orders, execute_orders, Timing, BacktestResult, run_markowitz\n",
    "\n",
    "from tuning import HyperParameters, get_data_and_parameters, full_markowitz\n",
    "\n",
    "# autoreload modules\n",
    "%load_ext autoreload\n",
    "%autoreload 2"
   ]
  },
  {
   "cell_type": "code",
   "execution_count": 2,
   "metadata": {},
   "outputs": [],
   "source": [
    "steps = 750\n",
    "\n",
    "prices = pd.read_csv(\"../data/prices.csv\", index_col=0, parse_dates=True).iloc[:]\n",
    "spread = pd.read_csv(\"../data/spreads.csv\", index_col=0, parse_dates=True).iloc[:]\n",
    "volume = pd.read_csv(\"../data/volumes.csv\", index_col=0, parse_dates=True).iloc[:]\n",
    "rf = pd.read_csv(\"../data/rf.csv\", index_col=0, parse_dates=True).iloc[:, 0].iloc[:]\n",
    "# returns = prices.pct_change().dropna()\n",
    "\n",
    "train_len = 1250\n",
    "test_len = 500\n",
    "\n",
    "# -500 since first 500 re discarded in backtest\n",
    "prices_train = prices.iloc[-train_len-test_len-500:-test_len]\n",
    "prices_test = prices.iloc[-test_len-500:]\n",
    "spread_train = spread.iloc[-train_len-test_len-500:-test_len]\n",
    "spread_test = spread.iloc[-test_len-500:]\n",
    "volume_train = volume.iloc[-train_len-test_len-500:-test_len]\n",
    "volume_test = volume.iloc[-test_len-500:]\n",
    "rf_train = rf.iloc[-train_len-test_len-500:-test_len]\n",
    "rf_test = rf.iloc[-test_len-500:]\n",
    "\n",
    "returns_train = prices_train.pct_change().dropna()\n",
    "returns_test = prices_test.pct_change().dropna()\n",
    "\n",
    "n_assets = prices.shape[1]"
   ]
  },
  {
   "cell_type": "code",
   "execution_count": 49,
   "metadata": {},
   "outputs": [
    {
     "name": "stderr",
     "output_type": "stream",
     "text": [
      "/Users/kasper/Documents/Stanford/Research/My papers/markowitz/reference_implementation/markowitz-reference/.venv/lib/python3.9/site-packages/matplotlib/axis.py:1769: FutureWarning: Period with BDay freq is deprecated and will be removed in a future version. Use a DatetimeIndex with BDay freq instead.\n",
      "  ret = self.converter.convert(x, self.units, self)\n",
      "/Users/kasper/Documents/Stanford/Research/My papers/markowitz/reference_implementation/markowitz-reference/.venv/lib/python3.9/site-packages/matplotlib/axis.py:1769: FutureWarning: PeriodDtype[B] is deprecated and will be removed in a future version. Use a DatetimeIndex with freq='B' instead\n",
      "  ret = self.converter.convert(x, self.units, self)\n",
      "/Users/kasper/Documents/Stanford/Research/My papers/markowitz/reference_implementation/markowitz-reference/.venv/lib/python3.9/site-packages/matplotlib/axis.py:1495: FutureWarning: Period with BDay freq is deprecated and will be removed in a future version. Use a DatetimeIndex with BDay freq instead.\n",
      "  return self.major.locator()\n",
      "/Users/kasper/Documents/Stanford/Research/My papers/markowitz/reference_implementation/markowitz-reference/.venv/lib/python3.9/site-packages/matplotlib/axis.py:1495: FutureWarning: PeriodDtype[B] is deprecated and will be removed in a future version. Use a DatetimeIndex with freq='B' instead\n",
      "  return self.major.locator()\n",
      "/Users/kasper/Documents/Stanford/Research/My papers/markowitz/reference_implementation/markowitz-reference/.venv/lib/python3.9/site-packages/matplotlib/ticker.py:216: FutureWarning: Period with BDay freq is deprecated and will be removed in a future version. Use a DatetimeIndex with BDay freq instead.\n",
      "  return [self(value, i) for i, value in enumerate(values)]\n"
     ]
    },
    {
     "data": {
      "text/plain": [
       "(0.0, 1.0)"
      ]
     },
     "execution_count": 49,
     "metadata": {},
     "output_type": "execute_result"
    },
    {
     "data": {
      "image/png": "[encoded data removed]",
      "text/plain": [
       "<Figure size 640x480 with 1 Axes>"
      ]
     },
     "metadata": {},
     "output_type": "display_data"
    }
   ],
   "source": [
    "duals.Risk.plot()\n",
    "plt.ylim(0,1)"
   ]
  },
  {
   "cell_type": "code",
   "execution_count": 15,
   "metadata": {},
   "outputs": [],
   "source": [
    "from collections import namedtuple\n",
    "\n",
    "def tune_parameters(\n",
    "    strategy,\n",
    "    prices,\n",
    "    spread,\n",
    "    volume,\n",
    "    rf,\n",
    "    risk_target,\n",
    "    verbose=True,\n",
    "):  \n",
    "    def run_strategy(hyperparameters):\n",
    "        results, duals = run_markowitz(\n",
    "            strategy,\n",
    "            prices,\n",
    "            spread,\n",
    "            volume,\n",
    "            rf,\n",
    "            risk_target,\n",
    "            hyperparameters,\n",
    "            verbose=False,\n",
    "        )\n",
    "        return results, duals\n",
    "\n",
    "    # gamma_hold, gamma_trade, gamma_turn, gamma_leverage, gamma_risk\n",
    "    hyperparameters = HyperParameters(\n",
    "        0, 0, 0, 0, 0\n",
    "        )\n",
    "    # First find reasonable soft constraing parameters\n",
    "\n",
    "    if verbose:\n",
    "        print(\"Tuning soft constraint parameters\")\n",
    "    results, duals = run_strategy(hyperparameters)\n",
    "    gamma_risk = duals.Risk.quantile(0.9)\n",
    "    gamma_turn = duals.Turnover.quantile(0.9)\n",
    "    gamma_leverage = duals.Leverage.quantile(0.9)\n",
    "\n",
    "    # # tune gamma_hold and gamma_trade\n",
    "\n",
    "    gamma_hold_trade = namedtuple(\"gamma_hold_trade\", [\"gamma_hold\", \"gamma_trade\"])\n",
    "    gamma_hold_trade.gamma_hold = 1\n",
    "    gamma_hold_trade.gamma_trade = 1\n",
    "\n",
    "    parameters_to_results = {}\n",
    "    parameters_to_results[\"hard\"] = (hyperparameters, results, duals)\n",
    "    print(f\"SR with hard constraints: {results.sharpe}\")\n",
    "\n",
    "\n",
    "    # solve the soft constraint problem for gamma_hold and gamma_trade\n",
    "    hyperparameters = HyperParameters(\n",
    "        gamma_hold_trade.gamma_hold, gamma_hold_trade.gamma_trade, gamma_turn, gamma_leverage, gamma_risk\n",
    "    )\n",
    "    results, _ = run_strategy(hyperparameters)\n",
    "    parameters_to_results[0] = (hyperparameters, results)\n",
    "    print(f\"SR: {results.sharpe}\")\n",
    "\n",
    "    sharpe_old = results.sharpe\n",
    "\n",
    "    iteration = 0\n",
    "    while True: \n",
    "        print(f\"Iteration number {iteration}; current sharpe: {sharpe_old}\")\n",
    "        if iteration % 2 == 0:\n",
    "            gamma_hold_temp = gamma_hold_trade.gamma_hold * 1.5\n",
    "\n",
    "            hyperparameters = HyperParameters(\n",
    "                gamma_hold_temp, gamma_hold_trade.gamma_trade, gamma_turn, gamma_leverage, gamma_risk\n",
    "            )\n",
    "            results, duals = run_strategy(hyperparameters)\n",
    "            if results.sharpe > sharpe_old:\n",
    "                gamma_hold_trade.gamma_hold = gamma_hold_temp\n",
    "                sharpe_old = results.sharpe\n",
    "            else:\n",
    "                gamma_hold_temp = gamma_hold_trade.gamma_hold * 0.5\n",
    "                hyperparameters = HyperParameters(\n",
    "                    gamma_hold_temp, gamma_hold_trade.gamma_trade, gamma_turn, gamma_leverage, gamma_risk\n",
    "                )\n",
    "                results, _ = run_strategy(hyperparameters)\n",
    "                if results.sharpe > sharpe_old:\n",
    "                    gamma_hold_trade.gamma_hold = gamma_hold_temp\n",
    "                    sharpe_old = results.sharpe\n",
    "                else:\n",
    "                    if iteration > 0:\n",
    "                        break\n",
    "        elif iteration % 2 == 1:\n",
    "            gamma_trade_temp = gamma_hold_trade.gamma_trade * 1.5\n",
    "\n",
    "            hyperparameters = HyperParameters(\n",
    "                gamma_hold_trade.gamma_hold, gamma_trade_temp, gamma_turn, gamma_leverage, gamma_risk\n",
    "            )\n",
    "            results, _ = run_strategy(hyperparameters)\n",
    "            if results.sharpe > sharpe_old:\n",
    "                gamma_hold_trade.gamma_trade = gamma_trade_temp\n",
    "                sharpe_old = results.sharpe\n",
    "            else:\n",
    "                gamma_trade_temp = gamma_hold_trade.gamma_trade * 0.5\n",
    "                hyperparameters = HyperParameters(\n",
    "                    gamma_hold_trade.gamma_hold, gamma_trade_temp, gamma_turn, gamma_leverage, gamma_risk\n",
    "                )\n",
    "                results, _ = run_strategy(hyperparameters)\n",
    "                if results.sharpe > sharpe_old:\n",
    "                    gamma_hold_trade.gamma_trade = gamma_trade_temp\n",
    "                    sharpe_old = results.sharpe\n",
    "                else:\n",
    "                    if iteration > 0:\n",
    "                        break\n",
    "                        \n",
    "            parameters_to_results[iteration] = (hyperparameters, results)\n",
    "\n",
    "        iteration += 1\n",
    "\n",
    "    \n",
    "    return parameters_to_results\n",
    "\n",
    "\n",
    "    \n",
    "\n",
    "    "
   ]
  },
  {
   "cell_type": "code",
   "execution_count": 17,
   "metadata": {},
   "outputs": [
    {
     "name": "stdout",
     "output_type": "stream",
     "text": [
      "Tuning soft constraint parameters\n",
      "SR with hard constraints: 0.5310964818894202\n",
      "SolverError\n",
      "None\n",
      "SolverError\n",
      "None\n"
     ]
    },
    {
     "name": "stderr",
     "output_type": "stream",
     "text": [
      "/Users/kasper/Documents/Stanford/Research/My papers/markowitz/reference_implementation/markowitz-reference/.venv/lib/python3.9/site-packages/cvxpy/problems/problem.py:1395: UserWarning: Solution may be inaccurate. Try another solver, adjusting the solver settings, or solve with verbose=True for more information.\n",
      "  warnings.warn(\n"
     ]
    },
    {
     "name": "stdout",
     "output_type": "stream",
     "text": [
      "SolverError\n",
      "None\n",
      "SolverError\n",
      "None\n",
      "SolverError\n",
      "None\n",
      "SolverError\n",
      "None\n",
      "SolverError\n",
      "None\n",
      "SolverError\n",
      "None\n",
      "SolverError\n",
      "None\n",
      "SolverError\n",
      "None\n",
      "SolverError\n",
      "None\n",
      "SolverError\n",
      "None\n",
      "SolverError\n",
      "None\n",
      "SolverError\n",
      "None\n",
      "SolverError\n",
      "None\n",
      "SolverError\n",
      "None\n",
      "SolverError\n",
      "None\n",
      "SolverError\n",
      "None\n",
      "SolverError\n",
      "None\n",
      "SolverError\n",
      "None\n",
      "SolverError\n",
      "None\n",
      "SolverError\n",
      "None\n",
      "SolverError\n",
      "None\n",
      "SolverError\n",
      "None\n",
      "SolverError\n",
      "None\n",
      "SolverError\n",
      "None\n",
      "SolverError\n",
      "None\n",
      "SolverError\n",
      "None\n",
      "SolverError\n",
      "None\n",
      "SolverError\n",
      "None\n",
      "SolverError\n",
      "None\n",
      "SolverError\n",
      "None\n",
      "SolverError\n",
      "None\n",
      "SolverError\n",
      "None\n",
      "SolverError\n",
      "None\n",
      "SolverError\n",
      "None\n",
      "SolverError\n",
      "None\n",
      "SolverError\n",
      "None\n",
      "SolverError\n",
      "None\n",
      "SolverError\n",
      "None\n",
      "SolverError\n",
      "None\n",
      "SolverError\n",
      "None\n",
      "SolverError\n",
      "None\n",
      "SolverError\n",
      "None\n",
      "SolverError\n",
      "None\n",
      "SolverError\n",
      "None\n",
      "SolverError\n",
      "None\n",
      "SolverError\n",
      "None\n",
      "SolverError\n",
      "None\n",
      "SR: 0.907885694576923\n",
      "Iteration number 0; current sharpe: 0.907885694576923\n",
      "SolverError\n",
      "None\n",
      "SolverError\n",
      "None\n",
      "SolverError\n",
      "None\n"
     ]
    },
    {
     "name": "stderr",
     "output_type": "stream",
     "text": [
      "/Users/kasper/Documents/Stanford/Research/My papers/markowitz/reference_implementation/markowitz-reference/.venv/lib/python3.9/site-packages/cvxpy/problems/problem.py:1395: UserWarning: Solution may be inaccurate. Try another solver, adjusting the solver settings, or solve with verbose=True for more information.\n",
      "  warnings.warn(\n"
     ]
    },
    {
     "name": "stdout",
     "output_type": "stream",
     "text": [
      "SolverError\n",
      "None\n",
      "SolverError\n",
      "None\n",
      "SolverError\n",
      "None\n",
      "SolverError\n",
      "None\n",
      "SolverError\n",
      "None\n",
      "SolverError\n",
      "None\n",
      "SolverError\n",
      "None\n",
      "SolverError\n",
      "None\n",
      "SolverError\n",
      "None\n",
      "SolverError\n",
      "None\n",
      "SolverError\n",
      "None\n",
      "SolverError\n",
      "None\n",
      "SolverError\n",
      "None\n",
      "SolverError\n",
      "None\n",
      "SolverError\n",
      "None\n",
      "SolverError\n",
      "None\n",
      "SolverError\n",
      "None\n",
      "SolverError\n",
      "None\n",
      "SolverError\n",
      "None\n",
      "SolverError\n",
      "None\n",
      "SolverError\n",
      "None\n",
      "SolverError\n",
      "None\n",
      "SolverError\n",
      "None\n"
     ]
    },
    {
     "name": "stderr",
     "output_type": "stream",
     "text": [
      "/Users/kasper/Documents/Stanford/Research/My papers/markowitz/reference_implementation/markowitz-reference/.venv/lib/python3.9/site-packages/cvxpy/problems/problem.py:1395: UserWarning: Solution may be inaccurate. Try another solver, adjusting the solver settings, or solve with verbose=True for more information.\n",
      "  warnings.warn(\n"
     ]
    },
    {
     "name": "stdout",
     "output_type": "stream",
     "text": [
      "SolverError\n",
      "None\n",
      "SolverError\n",
      "None\n",
      "SolverError\n",
      "None\n",
      "SolverError\n",
      "None\n",
      "SolverError\n",
      "None\n",
      "SolverError\n",
      "None\n",
      "SolverError\n",
      "None\n",
      "SolverError\n",
      "None\n",
      "SolverError\n",
      "None\n",
      "SolverError\n",
      "None\n",
      "Iteration number 1; current sharpe: 0.907885694576923\n",
      "SolverError\n",
      "None\n",
      "SolverError\n",
      "None\n"
     ]
    },
    {
     "name": "stderr",
     "output_type": "stream",
     "text": [
      "/Users/kasper/Documents/Stanford/Research/My papers/markowitz/reference_implementation/markowitz-reference/.venv/lib/python3.9/site-packages/cvxpy/problems/problem.py:1395: UserWarning: Solution may be inaccurate. Try another solver, adjusting the solver settings, or solve with verbose=True for more information.\n",
      "  warnings.warn(\n"
     ]
    },
    {
     "name": "stdout",
     "output_type": "stream",
     "text": [
      "SolverError\n",
      "None\n",
      "SolverError\n",
      "None\n",
      "SolverError\n",
      "None\n",
      "SolverError\n",
      "None\n",
      "SolverError\n",
      "None\n",
      "SolverError\n",
      "None\n",
      "SolverError\n",
      "None\n",
      "SolverError\n",
      "None\n",
      "SolverError\n",
      "None\n",
      "SolverError\n",
      "None\n",
      "SolverError\n",
      "None\n",
      "SolverError\n",
      "None\n",
      "SolverError\n",
      "None\n",
      "SolverError\n",
      "None\n",
      "SolverError\n",
      "None\n",
      "SolverError\n",
      "None\n",
      "SolverError\n",
      "None\n",
      "SolverError\n",
      "None\n",
      "SolverError\n",
      "None\n",
      "SolverError\n",
      "None\n",
      "SolverError\n",
      "None\n",
      "SolverError\n",
      "None\n"
     ]
    },
    {
     "name": "stderr",
     "output_type": "stream",
     "text": [
      "/Users/kasper/Documents/Stanford/Research/My papers/markowitz/reference_implementation/markowitz-reference/.venv/lib/python3.9/site-packages/cvxpy/problems/problem.py:1395: UserWarning: Solution may be inaccurate. Try another solver, adjusting the solver settings, or solve with verbose=True for more information.\n",
      "  warnings.warn(\n"
     ]
    },
    {
     "name": "stdout",
     "output_type": "stream",
     "text": [
      "SolverError\n",
      "None\n",
      "SolverError\n",
      "None\n",
      "SolverError\n",
      "None\n",
      "SolverError\n",
      "None\n",
      "SolverError\n",
      "None\n",
      "SolverError\n",
      "None\n",
      "SolverError\n",
      "None\n",
      "SolverError\n",
      "None\n",
      "SolverError\n",
      "None\n",
      "SolverError\n",
      "None\n",
      "SolverError\n",
      "None\n",
      "SolverError\n",
      "None\n",
      "SolverError\n",
      "None\n",
      "SolverError\n",
      "None\n",
      "SolverError\n",
      "None\n",
      "SolverError\n",
      "None\n",
      "SolverError\n",
      "None\n",
      "SolverError\n",
      "None\n",
      "SolverError\n",
      "None\n",
      "SolverError\n",
      "None\n",
      "SolverError\n",
      "None\n",
      "SolverError\n",
      "None\n",
      "SolverError\n",
      "None\n",
      "SolverError\n",
      "None\n",
      "SolverError\n",
      "None\n",
      "SolverError\n",
      "None\n",
      "SolverError\n",
      "None\n",
      "SolverError\n",
      "None\n",
      "SolverError\n",
      "None\n",
      "SolverError\n",
      "None\n",
      "Iteration number 2; current sharpe: 1.3857211445220385\n"
     ]
    },
    {
     "name": "stderr",
     "output_type": "stream",
     "text": [
      "/Users/kasper/Documents/Stanford/Research/My papers/markowitz/reference_implementation/markowitz-reference/.venv/lib/python3.9/site-packages/cvxpy/problems/problem.py:1395: UserWarning: Solution may be inaccurate. Try another solver, adjusting the solver settings, or solve with verbose=True for more information.\n",
      "  warnings.warn(\n"
     ]
    },
    {
     "name": "stdout",
     "output_type": "stream",
     "text": [
      "SolverError\n",
      "None\n",
      "SolverError\n",
      "None\n",
      "SolverError\n",
      "None\n",
      "SolverError\n",
      "None\n",
      "SolverError\n",
      "None\n",
      "SolverError\n",
      "None\n",
      "SolverError\n",
      "None\n",
      "SolverError\n",
      "None\n",
      "SolverError\n",
      "None\n",
      "SolverError\n",
      "None\n",
      "SolverError\n",
      "None\n",
      "SolverError\n",
      "None\n",
      "SolverError\n",
      "None\n",
      "SolverError\n",
      "None\n",
      "SolverError\n",
      "None\n",
      "SolverError\n",
      "None\n",
      "SolverError\n",
      "None\n"
     ]
    },
    {
     "name": "stderr",
     "output_type": "stream",
     "text": [
      "/Users/kasper/Documents/Stanford/Research/My papers/markowitz/reference_implementation/markowitz-reference/.venv/lib/python3.9/site-packages/cvxpy/problems/problem.py:1395: UserWarning: Solution may be inaccurate. Try another solver, adjusting the solver settings, or solve with verbose=True for more information.\n",
      "  warnings.warn(\n"
     ]
    },
    {
     "name": "stdout",
     "output_type": "stream",
     "text": [
      "SolverError\n",
      "None\n",
      "SolverError\n",
      "None\n",
      "SolverError\n",
      "None\n",
      "SolverError\n",
      "None\n",
      "SolverError\n",
      "None\n",
      "SolverError\n",
      "None\n",
      "SolverError\n",
      "None\n",
      "SolverError\n",
      "None\n",
      "SolverError\n",
      "None\n",
      "SolverError\n",
      "None\n",
      "SolverError\n",
      "None\n",
      "SolverError\n",
      "None\n",
      "SolverError\n",
      "None\n",
      "SolverError\n",
      "None\n",
      "SolverError\n",
      "None\n",
      "SolverError\n",
      "None\n",
      "SolverError\n",
      "None\n",
      "SolverError\n",
      "None\n",
      "SolverError\n",
      "None\n",
      "SolverError\n",
      "None\n",
      "SolverError\n",
      "None\n",
      "SolverError\n",
      "None\n",
      "SolverError\n",
      "None\n",
      "SolverError\n",
      "None\n",
      "SolverError\n",
      "None\n",
      "SolverError\n",
      "None\n",
      "SolverError\n",
      "None\n",
      "SolverError\n",
      "None\n",
      "SolverError\n",
      "None\n",
      "SolverError\n",
      "None\n",
      "SolverError\n",
      "None\n",
      "SolverError\n",
      "None\n",
      "SolverError\n",
      "None\n",
      "SolverError\n",
      "None\n",
      "SolverError\n",
      "None\n",
      "SolverError\n",
      "None\n",
      "SolverError\n",
      "None\n",
      "SolverError\n",
      "None\n",
      "SolverError\n",
      "None\n",
      "SolverError\n",
      "None\n",
      "SolverError\n",
      "None\n",
      "SolverError\n",
      "None\n",
      "SolverError\n",
      "None\n",
      "SolverError\n",
      "None\n",
      "SolverError\n",
      "None\n",
      "SolverError\n",
      "None\n",
      "SolverError\n",
      "None\n"
     ]
    }
   ],
   "source": [
    "parameter_dict = tune_parameters(\n",
    "    full_markowitz,\n",
    "    prices_train,\n",
    "    spread_train,\n",
    "    volume_train,\n",
    "    rf_train,\n",
    "    0.1/np.sqrt(252),\n",
    "    verbose=True,\n",
    ")"
   ]
  },
  {
   "cell_type": "code",
   "execution_count": 25,
   "metadata": {},
   "outputs": [],
   "source": [
    "params = [*parameter_dict.values()][-1][0]\n",
    "res = [*parameter_dict.values()][-1][1]\n",
    "\n",
    "duals = parameter_dict[\"hard\"][2]"
   ]
  },
  {
   "cell_type": "code",
   "execution_count": 38,
   "metadata": {},
   "outputs": [
    {
     "name": "stderr",
     "output_type": "stream",
     "text": [
      "/Users/kasper/Documents/Stanford/Research/My papers/markowitz/reference_implementation/markowitz-reference/.venv/lib/python3.9/site-packages/matplotlib/axis.py:1769: FutureWarning: Period with BDay freq is deprecated and will be removed in a future version. Use a DatetimeIndex with BDay freq instead.\n",
      "  ret = self.converter.convert(x, self.units, self)\n",
      "/Users/kasper/Documents/Stanford/Research/My papers/markowitz/reference_implementation/markowitz-reference/.venv/lib/python3.9/site-packages/matplotlib/axis.py:1769: FutureWarning: PeriodDtype[B] is deprecated and will be removed in a future version. Use a DatetimeIndex with freq='B' instead\n",
      "  ret = self.converter.convert(x, self.units, self)\n",
      "/Users/kasper/Documents/Stanford/Research/My papers/markowitz/reference_implementation/markowitz-reference/.venv/lib/python3.9/site-packages/matplotlib/axis.py:1495: FutureWarning: Period with BDay freq is deprecated and will be removed in a future version. Use a DatetimeIndex with BDay freq instead.\n",
      "  return self.major.locator()\n",
      "/Users/kasper/Documents/Stanford/Research/My papers/markowitz/reference_implementation/markowitz-reference/.venv/lib/python3.9/site-packages/matplotlib/axis.py:1495: FutureWarning: PeriodDtype[B] is deprecated and will be removed in a future version. Use a DatetimeIndex with freq='B' instead\n",
      "  return self.major.locator()\n",
      "/Users/kasper/Documents/Stanford/Research/My papers/markowitz/reference_implementation/markowitz-reference/.venv/lib/python3.9/site-packages/matplotlib/ticker.py:216: FutureWarning: Period with BDay freq is deprecated and will be removed in a future version. Use a DatetimeIndex with BDay freq instead.\n",
      "  return [self(value, i) for i, value in enumerate(values)]\n"
     ]
    },
    {
     "data": {
      "text/plain": [
       "<Axes: >"
      ]
     },
     "execution_count": 38,
     "metadata": {},
     "output_type": "execute_result"
    },
    {
     "data": {
      "image/png": "[encoded data removed]",
      "text/plain": [
       "<Figure size 640x480 with 1 Axes>"
      ]
     },
     "metadata": {},
     "output_type": "display_data"
    }
   ],
   "source": [
    "(res.portfolio_returns.ewm(halflife=21).std()*np.sqrt(252)).plot()"
   ]
  },
  {
   "cell_type": "code",
   "execution_count": 41,
   "metadata": {},
   "outputs": [],
   "source": [
    "params2 = params\n",
    "params2.gamma_risk = 1"
   ]
  },
  {
   "cell_type": "code",
   "execution_count": 107,
   "metadata": {},
   "outputs": [],
   "source": [
    "results, duals = run_markowitz(\n",
    "            full_markowitz,\n",
    "            prices_train,\n",
    "            spread_train,\n",
    "            volume_train,\n",
    "            rf_train,\n",
    "            0.1/np.sqrt(252),\n",
    "            params2,\n",
    "            verbose=True,\n",
    "        )"
   ]
  },
  {
   "cell_type": "code",
   "execution_count": 58,
   "metadata": {},
   "outputs": [
    {
     "name": "stderr",
     "output_type": "stream",
     "text": [
      "/Users/kasper/Documents/Stanford/Research/My papers/markowitz/reference_implementation/markowitz-reference/.venv/lib/python3.9/site-packages/matplotlib/axis.py:1769: FutureWarning: Period with BDay freq is deprecated and will be removed in a future version. Use a DatetimeIndex with BDay freq instead.\n",
      "  ret = self.converter.convert(x, self.units, self)\n",
      "/Users/kasper/Documents/Stanford/Research/My papers/markowitz/reference_implementation/markowitz-reference/.venv/lib/python3.9/site-packages/matplotlib/axis.py:1769: FutureWarning: PeriodDtype[B] is deprecated and will be removed in a future version. Use a DatetimeIndex with freq='B' instead\n",
      "  ret = self.converter.convert(x, self.units, self)\n",
      "/Users/kasper/Documents/Stanford/Research/My papers/markowitz/reference_implementation/markowitz-reference/.venv/lib/python3.9/site-packages/matplotlib/axis.py:1495: FutureWarning: Period with BDay freq is deprecated and will be removed in a future version. Use a DatetimeIndex with BDay freq instead.\n",
      "  return self.major.locator()\n",
      "/Users/kasper/Documents/Stanford/Research/My papers/markowitz/reference_implementation/markowitz-reference/.venv/lib/python3.9/site-packages/matplotlib/axis.py:1495: FutureWarning: PeriodDtype[B] is deprecated and will be removed in a future version. Use a DatetimeIndex with freq='B' instead\n",
      "  return self.major.locator()\n",
      "/Users/kasper/Documents/Stanford/Research/My papers/markowitz/reference_implementation/markowitz-reference/.venv/lib/python3.9/site-packages/matplotlib/ticker.py:216: FutureWarning: Period with BDay freq is deprecated and will be removed in a future version. Use a DatetimeIndex with BDay freq instead.\n",
      "  return [self(value, i) for i, value in enumerate(values)]\n"
     ]
    },
    {
     "data": {
      "text/plain": [
       "<Axes: >"
      ]
     },
     "execution_count": 58,
     "metadata": {},
     "output_type": "execute_result"
    },
    {
     "data": {
      "image/png": "[encoded data removed]",
      "text/plain": [
       "<Figure size 640x480 with 1 Axes>"
      ]
     },
     "metadata": {},
     "output_type": "display_data"
    }
   ],
   "source": [
    "(results.portfolio_returns.ewm(halflife=63).std()*np.sqrt(252)).plot()"
   ]
  },
  {
   "cell_type": "code",
   "execution_count": 45,
   "metadata": {},
   "outputs": [
    {
     "data": {
      "text/html": [
       "<div>\n",
       "<style scoped>\n",
       "    .dataframe tbody tr th:only-of-type {\n",
       "        vertical-align: middle;\n",
       "    }\n",
       "\n",
       "    .dataframe tbody tr th {\n",
       "        vertical-align: top;\n",
       "    }\n",
       "\n",
       "    .dataframe thead th {\n",
       "        text-align: right;\n",
       "    }\n",
       "</style>\n",
       "<table border=\"1\" class=\"dataframe\">\n",
       "  <thead>\n",
       "    <tr style=\"text-align: right;\">\n",
       "      <th></th>\n",
       "      <th>FullInvestment</th>\n",
       "      <th>Cash</th>\n",
       "      <th>CLower</th>\n",
       "      <th>CUpper</th>\n",
       "      <th>WLower</th>\n",
       "      <th>WUpper</th>\n",
       "      <th>ZLower</th>\n",
       "      <th>ZUpper</th>\n",
       "      <th>Leverage</th>\n",
       "      <th>Turnover</th>\n",
       "      <th>Risk</th>\n",
       "    </tr>\n",
       "  </thead>\n",
       "  <tbody>\n",
       "    <tr>\n",
       "      <th>2017-01-11</th>\n",
       "      <td>-0.022493</td>\n",
       "      <td>-0.022493</td>\n",
       "      <td>0.0</td>\n",
       "      <td>0.044987</td>\n",
       "      <td>[8.645497121924764e-11, 8.64822986322676e-11, ...</td>\n",
       "      <td>[5.800290108533934e-11, 5.799849478351272e-11,...</td>\n",
       "      <td>[1.7353178972992174e-10, 1.7420510911588984e-1...</td>\n",
       "      <td>[1.7260021333071972e-10, 1.7196232545446157e-1...</td>\n",
       "      <td>0.0</td>\n",
       "      <td>0.130603</td>\n",
       "      <td>0.0</td>\n",
       "    </tr>\n",
       "    <tr>\n",
       "      <th>2017-01-12</th>\n",
       "      <td>-0.0</td>\n",
       "      <td>0.0</td>\n",
       "      <td>0.0</td>\n",
       "      <td>0.0</td>\n",
       "      <td>[5.018588651634246e-12, 5.022938163623848e-12,...</td>\n",
       "      <td>[3.4946538881237427e-12, 3.4908557875011e-12, ...</td>\n",
       "      <td>[9.587590432590033e-12, 9.602293370062933e-12,...</td>\n",
       "      <td>[9.586888282691358e-12, 9.577822572341868e-12,...</td>\n",
       "      <td>0.0</td>\n",
       "      <td>0.203461</td>\n",
       "      <td>0.0</td>\n",
       "    </tr>\n",
       "    <tr>\n",
       "      <th>2017-01-13</th>\n",
       "      <td>0.0</td>\n",
       "      <td>-0.0</td>\n",
       "      <td>0.0</td>\n",
       "      <td>0.0</td>\n",
       "      <td>[1.515752557183404e-11, 1.514591080735209e-11,...</td>\n",
       "      <td>[1.0449990100511559e-11, 1.0460508939054161e-1...</td>\n",
       "      <td>[2.97196472835524e-11, 2.9618176977133126e-11,...</td>\n",
       "      <td>[2.9427945501515436e-11, 2.95060877016097e-11,...</td>\n",
       "      <td>0.0</td>\n",
       "      <td>0.235401</td>\n",
       "      <td>0.0</td>\n",
       "    </tr>\n",
       "    <tr>\n",
       "      <th>2017-01-16</th>\n",
       "      <td>-0.0</td>\n",
       "      <td>0.0</td>\n",
       "      <td>0.0</td>\n",
       "      <td>0.0</td>\n",
       "      <td>[6.367283836479898e-12, 6.368442563105979e-12,...</td>\n",
       "      <td>[4.3978822845228444e-12, 4.3990596182824394e-1...</td>\n",
       "      <td>[1.2449143416888898e-11, 1.2441485308561364e-1...</td>\n",
       "      <td>[1.2399102256135143e-11, 1.2402581819105919e-1...</td>\n",
       "      <td>0.0</td>\n",
       "      <td>0.176878</td>\n",
       "      <td>0.0</td>\n",
       "    </tr>\n",
       "    <tr>\n",
       "      <th>2017-01-17</th>\n",
       "      <td>-0.0</td>\n",
       "      <td>0.0</td>\n",
       "      <td>0.0</td>\n",
       "      <td>0.0</td>\n",
       "      <td>[1.809540445246482e-12, 1.8071270123336188e-12...</td>\n",
       "      <td>[1.2979713187599259e-12, 1.2990121049300156e-1...</td>\n",
       "      <td>[3.4446674918545197e-12, 3.4424426740040523e-1...</td>\n",
       "      <td>[3.4214121539083812e-12, 3.4251743379707055e-1...</td>\n",
       "      <td>0.0</td>\n",
       "      <td>0.169632</td>\n",
       "      <td>0.0</td>\n",
       "    </tr>\n",
       "    <tr>\n",
       "      <th>...</th>\n",
       "      <td>...</td>\n",
       "      <td>...</td>\n",
       "      <td>...</td>\n",
       "      <td>...</td>\n",
       "      <td>...</td>\n",
       "      <td>...</td>\n",
       "      <td>...</td>\n",
       "      <td>...</td>\n",
       "      <td>...</td>\n",
       "      <td>...</td>\n",
       "      <td>...</td>\n",
       "    </tr>\n",
       "    <tr>\n",
       "      <th>2021-10-19</th>\n",
       "      <td>NaN</td>\n",
       "      <td>NaN</td>\n",
       "      <td>NaN</td>\n",
       "      <td>NaN</td>\n",
       "      <td>NaN</td>\n",
       "      <td>NaN</td>\n",
       "      <td>NaN</td>\n",
       "      <td>NaN</td>\n",
       "      <td>NaN</td>\n",
       "      <td>NaN</td>\n",
       "      <td>NaN</td>\n",
       "    </tr>\n",
       "    <tr>\n",
       "      <th>2021-10-20</th>\n",
       "      <td>NaN</td>\n",
       "      <td>NaN</td>\n",
       "      <td>NaN</td>\n",
       "      <td>NaN</td>\n",
       "      <td>NaN</td>\n",
       "      <td>NaN</td>\n",
       "      <td>NaN</td>\n",
       "      <td>NaN</td>\n",
       "      <td>NaN</td>\n",
       "      <td>NaN</td>\n",
       "      <td>NaN</td>\n",
       "    </tr>\n",
       "    <tr>\n",
       "      <th>2021-10-21</th>\n",
       "      <td>NaN</td>\n",
       "      <td>NaN</td>\n",
       "      <td>NaN</td>\n",
       "      <td>NaN</td>\n",
       "      <td>NaN</td>\n",
       "      <td>NaN</td>\n",
       "      <td>NaN</td>\n",
       "      <td>NaN</td>\n",
       "      <td>NaN</td>\n",
       "      <td>NaN</td>\n",
       "      <td>NaN</td>\n",
       "    </tr>\n",
       "    <tr>\n",
       "      <th>2021-10-22</th>\n",
       "      <td>NaN</td>\n",
       "      <td>NaN</td>\n",
       "      <td>NaN</td>\n",
       "      <td>NaN</td>\n",
       "      <td>NaN</td>\n",
       "      <td>NaN</td>\n",
       "      <td>NaN</td>\n",
       "      <td>NaN</td>\n",
       "      <td>NaN</td>\n",
       "      <td>NaN</td>\n",
       "      <td>NaN</td>\n",
       "    </tr>\n",
       "    <tr>\n",
       "      <th>2021-10-25</th>\n",
       "      <td>NaN</td>\n",
       "      <td>NaN</td>\n",
       "      <td>NaN</td>\n",
       "      <td>NaN</td>\n",
       "      <td>NaN</td>\n",
       "      <td>NaN</td>\n",
       "      <td>NaN</td>\n",
       "      <td>NaN</td>\n",
       "      <td>NaN</td>\n",
       "      <td>NaN</td>\n",
       "      <td>NaN</td>\n",
       "    </tr>\n",
       "  </tbody>\n",
       "</table>\n",
       "<p>1249 rows × 11 columns</p>\n",
       "</div>"
      ],
      "text/plain": [
       "           FullInvestment      Cash CLower    CUpper  \\\n",
       "2017-01-11      -0.022493 -0.022493    0.0  0.044987   \n",
       "2017-01-12           -0.0       0.0    0.0       0.0   \n",
       "2017-01-13            0.0      -0.0    0.0       0.0   \n",
       "2017-01-16           -0.0       0.0    0.0       0.0   \n",
       "2017-01-17           -0.0       0.0    0.0       0.0   \n",
       "...                   ...       ...    ...       ...   \n",
       "2021-10-19            NaN       NaN    NaN       NaN   \n",
       "2021-10-20            NaN       NaN    NaN       NaN   \n",
       "2021-10-21            NaN       NaN    NaN       NaN   \n",
       "2021-10-22            NaN       NaN    NaN       NaN   \n",
       "2021-10-25            NaN       NaN    NaN       NaN   \n",
       "\n",
       "                                                       WLower  \\\n",
       "2017-01-11  [8.645497121924764e-11, 8.64822986322676e-11, ...   \n",
       "2017-01-12  [5.018588651634246e-12, 5.022938163623848e-12,...   \n",
       "2017-01-13  [1.515752557183404e-11, 1.514591080735209e-11,...   \n",
       "2017-01-16  [6.367283836479898e-12, 6.368442563105979e-12,...   \n",
       "2017-01-17  [1.809540445246482e-12, 1.8071270123336188e-12...   \n",
       "...                                                       ...   \n",
       "2021-10-19                                                NaN   \n",
       "2021-10-20                                                NaN   \n",
       "2021-10-21                                                NaN   \n",
       "2021-10-22                                                NaN   \n",
       "2021-10-25                                                NaN   \n",
       "\n",
       "                                                       WUpper  \\\n",
       "2017-01-11  [5.800290108533934e-11, 5.799849478351272e-11,...   \n",
       "2017-01-12  [3.4946538881237427e-12, 3.4908557875011e-12, ...   \n",
       "2017-01-13  [1.0449990100511559e-11, 1.0460508939054161e-1...   \n",
       "2017-01-16  [4.3978822845228444e-12, 4.3990596182824394e-1...   \n",
       "2017-01-17  [1.2979713187599259e-12, 1.2990121049300156e-1...   \n",
       "...                                                       ...   \n",
       "2021-10-19                                                NaN   \n",
       "2021-10-20                                                NaN   \n",
       "2021-10-21                                                NaN   \n",
       "2021-10-22                                                NaN   \n",
       "2021-10-25                                                NaN   \n",
       "\n",
       "                                                       ZLower  \\\n",
       "2017-01-11  [1.7353178972992174e-10, 1.7420510911588984e-1...   \n",
       "2017-01-12  [9.587590432590033e-12, 9.602293370062933e-12,...   \n",
       "2017-01-13  [2.97196472835524e-11, 2.9618176977133126e-11,...   \n",
       "2017-01-16  [1.2449143416888898e-11, 1.2441485308561364e-1...   \n",
       "2017-01-17  [3.4446674918545197e-12, 3.4424426740040523e-1...   \n",
       "...                                                       ...   \n",
       "2021-10-19                                                NaN   \n",
       "2021-10-20                                                NaN   \n",
       "2021-10-21                                                NaN   \n",
       "2021-10-22                                                NaN   \n",
       "2021-10-25                                                NaN   \n",
       "\n",
       "                                                       ZUpper Leverage  \\\n",
       "2017-01-11  [1.7260021333071972e-10, 1.7196232545446157e-1...      0.0   \n",
       "2017-01-12  [9.586888282691358e-12, 9.577822572341868e-12,...      0.0   \n",
       "2017-01-13  [2.9427945501515436e-11, 2.95060877016097e-11,...      0.0   \n",
       "2017-01-16  [1.2399102256135143e-11, 1.2402581819105919e-1...      0.0   \n",
       "2017-01-17  [3.4214121539083812e-12, 3.4251743379707055e-1...      0.0   \n",
       "...                                                       ...      ...   \n",
       "2021-10-19                                                NaN      NaN   \n",
       "2021-10-20                                                NaN      NaN   \n",
       "2021-10-21                                                NaN      NaN   \n",
       "2021-10-22                                                NaN      NaN   \n",
       "2021-10-25                                                NaN      NaN   \n",
       "\n",
       "            Turnover Risk  \n",
       "2017-01-11  0.130603  0.0  \n",
       "2017-01-12  0.203461  0.0  \n",
       "2017-01-13  0.235401  0.0  \n",
       "2017-01-16  0.176878  0.0  \n",
       "2017-01-17  0.169632  0.0  \n",
       "...              ...  ...  \n",
       "2021-10-19       NaN  NaN  \n",
       "2021-10-20       NaN  NaN  \n",
       "2021-10-21       NaN  NaN  \n",
       "2021-10-22       NaN  NaN  \n",
       "2021-10-25       NaN  NaN  \n",
       "\n",
       "[1249 rows x 11 columns]"
      ]
     },
     "execution_count": 45,
     "metadata": {},
     "output_type": "execute_result"
    }
   ],
   "source": [
    "duals"
   ]
  },
  {
   "cell_type": "code",
   "execution_count": 44,
   "metadata": {},
   "outputs": [
    {
     "data": {
      "text/plain": [
       "0.08998748651468831"
      ]
     },
     "execution_count": 44,
     "metadata": {},
     "output_type": "execute_result"
    }
   ],
   "source": [
    "results.volatility"
   ]
  },
  {
   "cell_type": "code",
   "execution_count": 35,
   "metadata": {},
   "outputs": [
    {
     "data": {
      "text/plain": [
       "3.7107741831158124e-07"
      ]
     },
     "execution_count": 35,
     "metadata": {},
     "output_type": "execute_result"
    }
   ],
   "source": [
    "duals.Risk.dropna().median()"
   ]
  },
  {
   "cell_type": "code",
   "execution_count": 34,
   "metadata": {},
   "outputs": [
    {
     "data": {
      "text/plain": [
       "2.0178709772998465e-06"
      ]
     },
     "execution_count": 34,
     "metadata": {},
     "output_type": "execute_result"
    }
   ],
   "source": [
    "2.0178709772998465e-06"
   ]
  },
  {
   "cell_type": "code",
   "execution_count": 20,
   "metadata": {},
   "outputs": [
    {
     "data": {
      "text/plain": [
       "HyperParameters(gamma_hold=1, gamma_trade=0.5, gamma_turn=0.4139728480824029, gamma_leverage=0.06763282443730048, gamma_risk=2.0178709772998465e-06)"
      ]
     },
     "execution_count": 20,
     "metadata": {},
     "output_type": "execute_result"
    }
   ],
   "source": [
    "params"
   ]
  },
  {
   "cell_type": "code",
   "execution_count": 22,
   "metadata": {},
   "outputs": [
    {
     "data": {
      "text/plain": [
       "0.08413656506603158"
      ]
     },
     "execution_count": 22,
     "metadata": {},
     "output_type": "execute_result"
    }
   ],
   "source": [
    "res.volatility"
   ]
  },
  {
   "cell_type": "code",
   "execution_count": 95,
   "metadata": {},
   "outputs": [],
   "source": [
    "res = [*parameter_dict.values()][-1][1]"
   ]
  },
  {
   "cell_type": "code",
   "execution_count": 94,
   "metadata": {},
   "outputs": [
    {
     "data": {
      "text/plain": [
       "HyperParameters(gamma_hold=1.5, gamma_trade=0.5, gamma_turn=0.8298874131078795, gamma_leverage=5.100934264218233e-09, gamma_risk=18.116732358099316)"
      ]
     },
     "execution_count": 94,
     "metadata": {},
     "output_type": "execute_result"
    }
   ],
   "source": [
    "res = [*parameter_dict.values()][-1][1]"
   ]
  },
  {
   "cell_type": "code",
   "execution_count": 70,
   "metadata": {},
   "outputs": [
    {
     "data": {
      "text/plain": [
       "0.5040844840830921"
      ]
     },
     "execution_count": 70,
     "metadata": {},
     "output_type": "execute_result"
    }
   ],
   "source": [
    "results.sharpe"
   ]
  },
  {
   "cell_type": "code",
   "execution_count": 62,
   "metadata": {},
   "outputs": [
    {
     "name": "stdout",
     "output_type": "stream",
     "text": [
      "Day 500 of 6190, 2001-12-04 00:00:00\n",
      "Day 600 of 6190, 2002-04-23 00:00:00\n",
      "Day 700 of 6190, 2002-09-10 00:00:00\n",
      "Day 800 of 6190, 2003-01-28 00:00:00\n"
     ]
    },
    {
     "name": "stderr",
     "output_type": "stream",
     "text": [
      "/Users/kasper/Documents/Stanford/Research/My papers/markowitz/reference_implementation/markowitz-reference/.venv/lib/python3.9/site-packages/cvxpy/problems/problem.py:1395: UserWarning: Solution may be inaccurate. Try another solver, adjusting the solver settings, or solve with verbose=True for more information.\n",
      "  warnings.warn(\n"
     ]
    },
    {
     "name": "stdout",
     "output_type": "stream",
     "text": [
      "Day 900 of 6190, 2003-06-17 00:00:00\n",
      "Day 1000 of 6190, 2003-11-04 00:00:00\n",
      "Day 1100 of 6190, 2004-03-23 00:00:00\n",
      "Day 1200 of 6190, 2004-08-10 00:00:00\n",
      "Day 1300 of 6190, 2004-12-28 00:00:00\n",
      "Day 1400 of 6190, 2005-05-17 00:00:00\n",
      "Day 1500 of 6190, 2005-10-04 00:00:00\n",
      "Day 1600 of 6190, 2006-02-21 00:00:00\n",
      "Day 1700 of 6190, 2006-07-11 00:00:00\n",
      "Day 1800 of 6190, 2006-11-28 00:00:00\n",
      "Day 1900 of 6190, 2007-04-17 00:00:00\n",
      "Day 2000 of 6190, 2007-09-04 00:00:00\n",
      "Day 2100 of 6190, 2008-01-22 00:00:00\n",
      "Day 2200 of 6190, 2008-06-10 00:00:00\n",
      "Day 2300 of 6190, 2008-10-28 00:00:00\n",
      "Day 2400 of 6190, 2009-03-17 00:00:00\n",
      "Day 2500 of 6190, 2009-08-04 00:00:00\n",
      "Day 2600 of 6190, 2009-12-22 00:00:00\n",
      "Day 2700 of 6190, 2010-05-11 00:00:00\n",
      "Day 2800 of 6190, 2010-09-28 00:00:00\n",
      "Day 2900 of 6190, 2011-02-15 00:00:00\n",
      "Day 3000 of 6190, 2011-07-05 00:00:00\n",
      "Day 3100 of 6190, 2011-11-22 00:00:00\n",
      "Day 3200 of 6190, 2012-04-10 00:00:00\n",
      "Day 3300 of 6190, 2012-08-28 00:00:00\n",
      "Day 3400 of 6190, 2013-01-15 00:00:00\n",
      "Day 3500 of 6190, 2013-06-04 00:00:00\n",
      "Day 3600 of 6190, 2013-10-22 00:00:00\n",
      "Day 3700 of 6190, 2014-03-11 00:00:00\n",
      "Day 3800 of 6190, 2014-07-29 00:00:00\n",
      "Day 3900 of 6190, 2014-12-16 00:00:00\n",
      "Day 4000 of 6190, 2015-05-05 00:00:00\n",
      "Day 4100 of 6190, 2015-09-22 00:00:00\n",
      "Day 4200 of 6190, 2016-02-09 00:00:00\n",
      "Day 4300 of 6190, 2016-06-28 00:00:00\n",
      "Day 4400 of 6190, 2016-11-15 00:00:00\n",
      "Day 4500 of 6190, 2017-04-04 00:00:00\n",
      "Day 4600 of 6190, 2017-08-22 00:00:00\n",
      "Day 4700 of 6190, 2018-01-09 00:00:00\n",
      "Day 4800 of 6190, 2018-05-29 00:00:00\n",
      "Day 4900 of 6190, 2018-10-16 00:00:00\n",
      "Day 5000 of 6190, 2019-03-05 00:00:00\n",
      "Day 5100 of 6190, 2019-07-23 00:00:00\n",
      "Day 5200 of 6190, 2019-12-10 00:00:00\n",
      "Day 5300 of 6190, 2020-04-28 00:00:00\n",
      "Day 5400 of 6190, 2020-09-15 00:00:00\n",
      "Day 5500 of 6190, 2021-02-02 00:00:00\n",
      "Day 5600 of 6190, 2021-06-22 00:00:00\n",
      "Day 5700 of 6190, 2021-11-09 00:00:00\n",
      "Day 5800 of 6190, 2022-03-29 00:00:00\n",
      "Day 5900 of 6190, 2022-08-16 00:00:00\n",
      "Day 6000 of 6190, 2023-01-03 00:00:00\n",
      "Day 6100 of 6190, 2023-05-23 00:00:00\n"
     ]
    }
   ],
   "source": [
    "risk_target = 0.1 / np.sqrt(252)\n",
    "hyperparameters = HyperParameters(\n",
    "    0, 0, 0, 0, 0\n",
    ")\n",
    "\n",
    "results, duals = run_markowitz(\n",
    "    strategy,\n",
    "    prices,\n",
    "    spread,\n",
    "    volume,\n",
    "    rf,\n",
    "    risk_target,\n",
    "    hyperparameters,\n",
    "    verbose=True,\n",
    ") "
   ]
  },
  {
   "cell_type": "code",
   "execution_count": 63,
   "metadata": {},
   "outputs": [
    {
     "name": "stdout",
     "output_type": "stream",
     "text": [
      "mean: 0.04523447537467463\n",
      "volatility: 0.08973590103046751\n",
      "max drawdown: -0.2965556038964159\n",
      "max leverage: 2.504314108737476\n",
      "sharpe: 0.5040844840830921\n",
      "turnover: 12.89692623810611\n"
     ]
    }
   ],
   "source": [
    "print(f\"mean: {results.mean_return}\")\n",
    "print(f\"volatility: {results.volatility}\")\n",
    "print(f\"max drawdown: {results.max_drawdown}\")\n",
    "print(f\"max leverage: {results.max_leverage}\")\n",
    "print(f\"sharpe: {results.sharpe}\")\n",
    "print(f\"turnover: {results.turnover}\")"
   ]
  },
  {
   "cell_type": "code",
   "execution_count": 64,
   "metadata": {},
   "outputs": [
    {
     "name": "stderr",
     "output_type": "stream",
     "text": [
      "/Users/kasper/Documents/Stanford/Research/My papers/markowitz/reference_implementation/markowitz-reference/.venv/lib/python3.9/site-packages/matplotlib/axis.py:1769: FutureWarning: Period with BDay freq is deprecated and will be removed in a future version. Use a DatetimeIndex with BDay freq instead.\n",
      "  ret = self.converter.convert(x, self.units, self)\n",
      "/Users/kasper/Documents/Stanford/Research/My papers/markowitz/reference_implementation/markowitz-reference/.venv/lib/python3.9/site-packages/matplotlib/axis.py:1769: FutureWarning: PeriodDtype[B] is deprecated and will be removed in a future version. Use a DatetimeIndex with freq='B' instead\n",
      "  ret = self.converter.convert(x, self.units, self)\n",
      "/Users/kasper/Documents/Stanford/Research/My papers/markowitz/reference_implementation/markowitz-reference/.venv/lib/python3.9/site-packages/matplotlib/axis.py:1495: FutureWarning: Period with BDay freq is deprecated and will be removed in a future version. Use a DatetimeIndex with BDay freq instead.\n",
      "  return self.major.locator()\n",
      "/Users/kasper/Documents/Stanford/Research/My papers/markowitz/reference_implementation/markowitz-reference/.venv/lib/python3.9/site-packages/matplotlib/axis.py:1495: FutureWarning: PeriodDtype[B] is deprecated and will be removed in a future version. Use a DatetimeIndex with freq='B' instead\n",
      "  return self.major.locator()\n",
      "/Users/kasper/Documents/Stanford/Research/My papers/markowitz/reference_implementation/markowitz-reference/.venv/lib/python3.9/site-packages/matplotlib/ticker.py:216: FutureWarning: Period with BDay freq is deprecated and will be removed in a future version. Use a DatetimeIndex with BDay freq instead.\n",
      "  return [self(value, i) for i, value in enumerate(values)]\n"
     ]
    },
    {
     "data": {
      "text/plain": [
       "<Axes: >"
      ]
     },
     "execution_count": 64,
     "metadata": {},
     "output_type": "execute_result"
    },
    {
     "data": {
      "image/png": "[encoded data removed]",
      "text/plain": [
       "<Figure size 640x480 with 1 Axes>"
      ]
     },
     "metadata": {},
     "output_type": "display_data"
    }
   ],
   "source": [
    "(results.portfolio_returns.ewm(halflife=21).std()*np.sqrt(252)).plot()"
   ]
  },
  {
   "cell_type": "code",
   "execution_count": 18,
   "metadata": {},
   "outputs": [
    {
     "data": {
      "text/plain": [
       "'long_only'"
      ]
     },
     "execution_count": 18,
     "metadata": {},
     "output_type": "execute_result"
    }
   ],
   "source": [
    "cons[0].name"
   ]
  },
  {
   "cell_type": "code",
   "execution_count": 3,
   "metadata": {},
   "outputs": [],
   "source": [
    "t = returns.index[0]\n",
    "\n",
    "prices_t = prices.loc[t]\n",
    "returns_t = returns.loc[t]\n",
    "spread_t = spread.loc[t]\n",
    "volume_t = volume.loc[t]\n",
    "rf_t = rf.loc[t]\n",
    "\n",
    "Sigma_t = returns.cov()\n",
    "mu_t = returns.mean()\n",
    "\n",
    "risk_target = 0.1 / np.sqrt(252) \n",
    "T_max = 10 / 252\n",
    "# T_max = 1\n",
    "\n",
    "L_max = 1.6"
   ]
  },
  {
   "cell_type": "code",
   "execution_count": 4,
   "metadata": {},
   "outputs": [],
   "source": [
    "def get_data_and_parameters(inputs, risk_target, T_max, L_max):\n",
    "\n",
    "    n_assets = inputs.n_assets\n",
    "    latest_prices = inputs.prices.iloc[-1]\n",
    "    portfolio_value = inputs.cash + inputs.quantities @ latest_prices\n",
    "\n",
    "    data = Data(\n",
    "        w_prev=(inputs.quantities * latest_prices / portfolio_value),\n",
    "        c_prev=(inputs.cash / portfolio_value),\n",
    "        idio_mean=np.zeros(n_assets),\n",
    "        factor_mean=inputs.mean.values,\n",
    "        risk_free=0,\n",
    "        factor_covariance_chol=np.linalg.cholesky(inputs.covariance.values),\n",
    "        idio_volas=np.zeros(n_assets),\n",
    "        F=np.eye(n_assets),\n",
    "        kappa_short=np.zeros(n_assets),\n",
    "        kappa_borrow=0.0,\n",
    "        kappa_spread=np.zeros(n_assets),\n",
    "        kappa_impact=np.zeros(n_assets),\n",
    "    )\n",
    "\n",
    "    param = Parameters(\n",
    "        w_lower=-0.1,\n",
    "        w_upper=0.15,\n",
    "        c_lower=-0.3,\n",
    "        c_upper=0.4,\n",
    "        z_lower=-np.ones(data.n_assets) * 1e3,\n",
    "        z_upper=np.ones(data.n_assets) * 1e3,\n",
    "        T_max=T_max,\n",
    "        L_max=L_max,\n",
    "        rho_mean=np.zeros(data.n_assets),\n",
    "        rho_covariance=0.0,\n",
    "        gamma_hold=0.0,\n",
    "        gamma_trade=0.0,\n",
    "        gamma_turn=0.0,\n",
    "        gamma_risk=0,\n",
    "        risk_target=risk_target,\n",
    "        gamma_c_lower=None,\n",
    "        gamma_c_upper=None,\n",
    "        gamma_w_lower=None,\n",
    "        gamma_w_upper=None,\n",
    "        gamma_z_lower=None,\n",
    "        gamma_z_upper=None,\n",
    "        gamma_L_max=None,\n",
    "    )\n",
    "\n",
    "    return data, param\n",
    "\n",
    "def get_data_and_parameters2(inputs, gamma_risk, gamma_turn, gamma_c_lower, gamma_c_upper, gamma_w_lower, gamma_w_upper, gamma_z_lower, gamma_z_upper, gamma_L_max, risk_target, T_max, L_max=1.6):\n",
    "                             \n",
    "    n_assets = inputs.n_assets\n",
    "    latest_prices = inputs.prices.iloc[-1]\n",
    "    portfolio_value = inputs.cash + inputs.quantities @ latest_prices\n",
    "\n",
    "    data = Data(\n",
    "        w_prev=(inputs.quantities * latest_prices / portfolio_value),\n",
    "        c_prev=(inputs.cash / portfolio_value),\n",
    "        idio_mean=np.zeros(n_assets),\n",
    "        factor_mean=inputs.mean.values,\n",
    "        risk_free=0,\n",
    "        factor_covariance_chol=np.linalg.cholesky(inputs.covariance.values),\n",
    "        idio_volas=np.zeros(n_assets),\n",
    "        F=np.eye(n_assets),\n",
    "        kappa_short=np.zeros(n_assets),\n",
    "        kappa_borrow=0.0,\n",
    "        kappa_spread=np.zeros(n_assets),\n",
    "        kappa_impact=np.zeros(n_assets),\n",
    "    )\n",
    "\n",
    "    # param = Parameters(\n",
    "    #     w_lower=-0.1,\n",
    "    #     w_upper=0.15,\n",
    "    #     c_lower=-0.3,\n",
    "    #     c_upper=0.4,\n",
    "    #     z_lower=-np.ones(data.n_assets) * 1e3,\n",
    "    #     z_upper=np.ones(data.n_assets) * 1e3,\n",
    "    #     T_max=0,\n",
    "    #     L_max=L_max,\n",
    "    #     rho_mean=np.zeros(data.n_assets),\n",
    "    #     rho_covariance=0.0,\n",
    "    #     gamma_hold=0.0,\n",
    "    #     gamma_trade=0.0,\n",
    "    #     gamma_turn=gamma_turn,\n",
    "    #     gamma_risk=gamma_risk,\n",
    "    #     risk_target=inputs.risk_target,\n",
    "    # )\n",
    "\n",
    "    param = Parameters(\n",
    "        w_lower=-0.1,\n",
    "        w_upper=0.15,\n",
    "        c_lower=-0.3,\n",
    "        c_upper=0.4,\n",
    "        z_lower=-np.ones(data.n_assets) * 1e3,\n",
    "        z_upper=np.ones(data.n_assets) * 1e3,\n",
    "        T_max=T_max,\n",
    "        L_max=L_max,\n",
    "        rho_mean=np.zeros(data.n_assets),\n",
    "        rho_covariance=0.0,\n",
    "        gamma_hold=0.0,\n",
    "        gamma_trade=0.0,\n",
    "        gamma_turn=gamma_turn,\n",
    "        gamma_risk=gamma_risk,\n",
    "        risk_target=inputs.risk_target,\n",
    "        gamma_c_lower=gamma_c_lower,\n",
    "        gamma_c_upper=gamma_c_upper,\n",
    "        gamma_w_lower=gamma_w_lower,\n",
    "        gamma_w_upper=gamma_w_upper,\n",
    "        gamma_z_lower=gamma_z_lower,\n",
    "        gamma_z_upper=gamma_z_upper,\n",
    "        gamma_L_max=gamma_L_max,\n",
    "    )\n",
    "\n",
    "    \n",
    "\n",
    "    return data, param\n",
    "\n",
    "\n",
    "    "
   ]
  },
  {
   "cell_type": "code",
   "execution_count": 18,
   "metadata": {},
   "outputs": [],
   "source": [
    "import time\n",
    "import cvxpy as cp\n",
    "def run_markowitz(\n",
    "    # strategy: Callable, risk_target: float, verbose: bool = False,\n",
    "    prices, spread, volume, rf, hard=True, verbose: bool = False,\n",
    ") -> tuple[pd.Series, pd.DataFrame]:\n",
    "    \"\"\"\n",
    "    Run a simplified backtest for a given strategy.\n",
    "    At time t we use data from t-lookback to t to compute the optimal portfolio\n",
    "    weights and then execute the trades at time t.\n",
    "    \"\"\"\n",
    "\n",
    "    # prices, spread, volume, rf = load_data()\n",
    "    n_assets = prices.shape[1]\n",
    "\n",
    "    lookback = 500\n",
    "\n",
    "    # Initialize quantities as equally weighted fully invested portfolio\n",
    "    prices0 = prices.iloc[lookback]\n",
    "    quantities = np.ones(n_assets) * (1 / prices0) / np.sum(1 / prices0)\n",
    "    cash = 0\n",
    "\n",
    "    post_trade_cash = []\n",
    "    post_trade_quantities = []\n",
    "\n",
    "    if hard:\n",
    "        dual_optimals = pd.DataFrame(columns=[\"Risk\", \"Turnover\", \"CLower\", \"CUpper\", \"WUpper\", \"WLower\", \"ZUpper\", \"ZLower\", \"Leverage\"], index=prices.index[lookback:-1])\n",
    "    \n",
    "    timings = []\n",
    "\n",
    "    returns = prices.pct_change().dropna() \n",
    "    means = (\n",
    "        synthetic_returns(prices, information_ratio=0.07).shift(-1).dropna()\n",
    "    )  # At time t includes data up to t+1\n",
    "    covariance_df = returns.ewm(halflife=125).cov()  # At time t includes data up to t\n",
    "    days = returns.index\n",
    "    covariances = {}\n",
    "    for day in days:\n",
    "        covariances[day] = covariance_df.loc[day]\n",
    "\n",
    "    for t in range(lookback, len(prices) - 1):\n",
    "        start_time = time.perf_counter()\n",
    "\n",
    "        day = prices.index[t]\n",
    "\n",
    "        if verbose and t%100 == 0:\n",
    "            print(f\"Day {t} of {len(prices)-1}, {day}\")\n",
    "\n",
    "        prices_t = prices.iloc[t - lookback : t + 1]  # Up to t\n",
    "        spread_t = spread.iloc[t - lookback : t + 1]\n",
    "        volume_t = volume.iloc[t - lookback : t + 1]\n",
    "\n",
    "        mean_t = means.loc[day]  # Forecast for return t to t+1\n",
    "        covariance_t = covariances[day]  # Forecast for covariance t to t+1\n",
    "\n",
    "        inputs_t = OptimizationInput(\n",
    "            prices_t,\n",
    "            mean_t,\n",
    "            covariance_t,\n",
    "            spread_t,\n",
    "            volume_t,\n",
    "            quantities,\n",
    "            cash,\n",
    "            risk_target,\n",
    "            rf.iloc[t],\n",
    "        )\n",
    "\n",
    "        data, param = get_data_and_parameters(inputs_t, risk_target, T_max, L_max)\n",
    "\n",
    "        success = True\n",
    "        try:\n",
    "            w, _, problem = markowitz_hard(data, param)\n",
    "        except (AssertionError, cp.SolverError) as e:\n",
    "            print(\"Failed: removing T_max\")\n",
    "            data, param = get_data_and_parameters(inputs_t, risk_target, T_max=1e3, L_max=L_max)\n",
    "            try :\n",
    "                success = False\n",
    "                w, _, problem = markowitz_hard(data, param)\n",
    "            except (AssertionError, cp.SolverError) as f:\n",
    "                print(\"Failed: removing L_max\")\n",
    "                # data, param = get_data_and_parameters(inputs_t, risk_target, T_max=1, L_max=3)\n",
    "                # w, _, problem = markowitz_hard(data, param)\n",
    "\n",
    "\n",
    "            \n",
    "\n",
    "        latest_prices = prices.iloc[t]  # At t\n",
    "        latest_spread = spread.iloc[t]\n",
    "\n",
    "        cash += interest_and_fees(\n",
    "            cash, rf.iloc[t - 1], quantities, prices.iloc[t - 1], day\n",
    "        )\n",
    "        trade_quantities = create_orders(w, quantities, cash, latest_prices)\n",
    "        quantities += trade_quantities\n",
    "        cash += execute_orders(latest_prices, trade_quantities, latest_spread)\n",
    "\n",
    "        post_trade_cash.append(cash)\n",
    "        post_trade_quantities.append(quantities.copy())\n",
    "        dual_optimals.loc[day, \"CLower\"] = problem.constraints[2].dual_value\n",
    "        dual_optimals.loc[day, \"CUpper\"] = problem.constraints[3].dual_value\n",
    "        dual_optimals.loc[day, \"WLower\"] = problem.constraints[4].dual_value\n",
    "        dual_optimals.loc[day, \"WUpper\"] = problem.constraints[5].dual_value\n",
    "        dual_optimals.loc[day, \"ZLower\"] = problem.constraints[6].dual_value\n",
    "        dual_optimals.loc[day, \"ZUpper\"] = problem.constraints[7].dual_value\n",
    "        dual_optimals.loc[day, \"Leverage\"] = problem.constraints[8].dual_value\n",
    "        if success:\n",
    "            dual_optimals.loc[day, \"Turnover\"] = problem.constraints[9].dual_value\n",
    "        else:\n",
    "            try:\n",
    "                dual_optimals.loc[day, \"Turnover\"] = dual_optimals.loc[prices.index[t-1], \"Turnover\"]\n",
    "            except KeyError:\n",
    "                dual_optimals.loc[day, \"Turnover\"] = problem.constraints[9].dual_value\n",
    "        success = True\n",
    "        dual_optimals.loc[day, \"Risk\"] = problem.constraints[10].dual_value\n",
    "\n",
    "        # dual_optimals.append(problem.constraints[-1].dual_value)\n",
    "\n",
    "        # Timings\n",
    "        end_time = time.perf_counter()\n",
    "        timings.append(Timing.get_timing(start_time, end_time, problem))\n",
    "\n",
    "    post_trade_cash = pd.Series(post_trade_cash, index=prices.index[lookback:-1])\n",
    "    post_trade_quantities = pd.DataFrame(\n",
    "        post_trade_quantities, index=prices.index[lookback:-1], columns=prices.columns\n",
    "    )\n",
    "\n",
    "    return BacktestResult(post_trade_cash, post_trade_quantities, risk_target, timings), dual_optimals\n",
    "\n",
    "####################\n",
    "def run_soft_markowitz(\n",
    "    prices, spread, volume, rf, priorities, verbose: bool = False,\n",
    ") -> tuple[pd.Series, pd.DataFrame]:\n",
    "    \"\"\"\n",
    "    Run a simplified backtest for a given strategy.\n",
    "    At time t we use data from t-lookback to t to compute the optimal portfolio\n",
    "    weights and then execute the trades at time t.\n",
    "    \"\"\"\n",
    "\n",
    "    # prices, spread, volume, rf = load_data()\n",
    "    n_assets = prices.shape[1]\n",
    "\n",
    "    lookback = 500\n",
    "    \n",
    "    prices0 = prices.iloc[lookback]\n",
    "    quantities = np.ones(n_assets) * (1 / prices0) / np.sum(1 / prices0)\n",
    "    cash = 0\n",
    "\n",
    "    post_trade_cash = []\n",
    "    post_trade_quantities = []\n",
    "    timings = []\n",
    "    risks = pd.Series(index=prices.index[lookback:-1])\n",
    "    turnovers = pd.Series(index=prices.index[lookback:-1])\n",
    "\n",
    "    returns = prices.pct_change().dropna() \n",
    "    means = (\n",
    "        synthetic_returns(prices, information_ratio=0.07).shift(-1).dropna()\n",
    "    )  # At time t includes data up to t+1\n",
    "    covariance_df = returns.ewm(halflife=125).cov()  # At time t includes data up to t\n",
    "    days = returns.index\n",
    "    covariances = {}\n",
    "    for day in days:\n",
    "        covariances[day] = covariance_df.loc[day]\n",
    "\n",
    "    for t in range(lookback, len(prices) - 1):\n",
    "        start_time = time.perf_counter()\n",
    "\n",
    "        day = prices.index[t]\n",
    "\n",
    "        if verbose and t%100 == 0:\n",
    "            print(f\"Day {t} of {len(prices)-1}, {day}\")\n",
    "\n",
    "        prices_t = prices.iloc[t - lookback : t + 1]  # Up to t\n",
    "        spread_t = spread.iloc[t - lookback : t + 1]\n",
    "        volume_t = volume.iloc[t - lookback : t + 1]\n",
    "\n",
    "        mean_t = means.loc[day]  # Forecast for return t to t+1\n",
    "        covariance_t = covariances[day]  # Forecast for covariance t to t+1\n",
    "\n",
    "        inputs_t = OptimizationInput(\n",
    "            prices_t,\n",
    "            mean_t,\n",
    "            covariance_t,\n",
    "            spread_t,\n",
    "            volume_t,\n",
    "            quantities,\n",
    "            cash,\n",
    "            risk_target,\n",
    "            rf.iloc[t],\n",
    "        )\n",
    "\n",
    "        gamma_risk=priorities.loc[day].Risk\n",
    "        gamma_turn=priorities.loc[day].Turnover\n",
    "        gamma_c_lower=priorities.loc[day].CLower\n",
    "        gamma_c_upper=priorities.loc[day].CUpper\n",
    "        gamma_w_lower=priorities.loc[day].WLower\n",
    "        gamma_w_upper=priorities.loc[day].WUpper\n",
    "        gamma_z_lower=priorities.loc[day].ZLower\n",
    "        gamma_z_upper=priorities.loc[day].ZUpper\n",
    "        gamma_L_max=priorities.loc[day].Leverage\n",
    "\n",
    "\n",
    "        data, param = get_data_and_parameters2(inputs_t, \n",
    "                                               gamma_risk=gamma_risk, gamma_turn=gamma_turn, gamma_c_lower=gamma_c_lower, gamma_c_upper=gamma_c_upper, gamma_w_lower=gamma_w_lower, gamma_w_upper=gamma_w_upper, gamma_z_lower=gamma_z_lower, gamma_z_upper=gamma_z_upper, gamma_L_max=gamma_L_max, risk_target=risk_target, T_max=T_max, L_max=L_max)\n",
    "\n",
    "        w, _, problem = markowitz(data, param)\n",
    "\n",
    "        latest_prices = prices.iloc[t]  # At t\n",
    "        latest_spread = spread.iloc[t]\n",
    "\n",
    "        cash += interest_and_fees(\n",
    "            cash, rf.iloc[t - 1], quantities, prices.iloc[t - 1], day\n",
    "        )\n",
    "        trade_quantities = create_orders(w, quantities, cash, latest_prices)\n",
    "        quantities += trade_quantities\n",
    "        cash += execute_orders(latest_prices, trade_quantities, latest_spread)\n",
    "\n",
    "        post_trade_cash.append(cash)\n",
    "        post_trade_quantities.append(quantities.copy())\n",
    "\n",
    "        risk = np.sqrt(np.dot(np.dot(w, covariance_t), w)) * np.sqrt(252)\n",
    "        turnover = np.sum(np.abs(w - data.w_prev))\n",
    "        risks.loc[day] = risk\n",
    "        turnovers.loc[day] = turnover\n",
    "\n",
    "        # Timings\n",
    "        end_time = time.perf_counter()\n",
    "        timings.append(Timing.get_timing(start_time, end_time, problem))\n",
    "\n",
    "    post_trade_cash = pd.Series(post_trade_cash, index=prices.index[lookback:-1])\n",
    "    post_trade_quantities = pd.DataFrame(\n",
    "        post_trade_quantities, index=prices.index[lookback:-1], columns=prices.columns\n",
    "    )\n",
    "\n",
    "    return BacktestResult(post_trade_cash, post_trade_quantities, risk_target, timings), risks, turnovers"
   ]
  },
  {
   "cell_type": "code",
   "execution_count": 19,
   "metadata": {},
   "outputs": [
    {
     "name": "stdout",
     "output_type": "stream",
     "text": [
      "Day 500 of 6190, 2001-12-04 00:00:00\n",
      "Failed: removing T_max\n",
      "Day 600 of 6190, 2002-04-23 00:00:00\n",
      "Failed: removing T_max\n",
      "Day 700 of 6190, 2002-09-10 00:00:00\n",
      "Failed: removing T_max\n",
      "Failed: removing T_max\n",
      "Day 800 of 6190, 2003-01-28 00:00:00\n",
      "Failed: removing T_max\n",
      "Failed: removing T_max\n",
      "Day 900 of 6190, 2003-06-17 00:00:00\n",
      "Day 1000 of 6190, 2003-11-04 00:00:00\n",
      "Day 1100 of 6190, 2004-03-23 00:00:00\n",
      "Day 1200 of 6190, 2004-08-10 00:00:00\n",
      "Day 1300 of 6190, 2004-12-28 00:00:00\n",
      "Day 1400 of 6190, 2005-05-17 00:00:00\n",
      "Day 1500 of 6190, 2005-10-04 00:00:00\n",
      "Day 1600 of 6190, 2006-02-21 00:00:00\n",
      "Day 1700 of 6190, 2006-07-11 00:00:00\n",
      "Day 1800 of 6190, 2006-11-28 00:00:00\n",
      "Day 1900 of 6190, 2007-04-17 00:00:00\n",
      "Day 2000 of 6190, 2007-09-04 00:00:00\n",
      "Day 2100 of 6190, 2008-01-22 00:00:00\n",
      "Failed: removing T_max\n",
      "Failed: removing T_max\n",
      "Day 2200 of 6190, 2008-06-10 00:00:00\n",
      "Failed: removing T_max\n",
      "Failed: removing T_max\n",
      "Failed: removing T_max\n",
      "Failed: removing T_max\n",
      "Failed: removing T_max\n",
      "Day 2300 of 6190, 2008-10-28 00:00:00\n",
      "Failed: removing T_max\n",
      "Failed: removing T_max\n",
      "Failed: removing T_max\n",
      "Failed: removing T_max\n",
      "Failed: removing T_max\n",
      "Failed: removing T_max\n",
      "Failed: removing T_max\n",
      "Failed: removing T_max\n",
      "Failed: removing T_max\n",
      "Failed: removing T_max\n",
      "Day 2400 of 6190, 2009-03-17 00:00:00\n",
      "Failed: removing T_max\n",
      "Failed: removing T_max\n",
      "Failed: removing T_max\n",
      "Failed: removing T_max\n",
      "Day 2500 of 6190, 2009-08-04 00:00:00\n",
      "Day 2600 of 6190, 2009-12-22 00:00:00\n",
      "Day 2700 of 6190, 2010-05-11 00:00:00\n",
      "Day 2800 of 6190, 2010-09-28 00:00:00\n",
      "Day 2900 of 6190, 2011-02-15 00:00:00\n",
      "Day 3000 of 6190, 2011-07-05 00:00:00\n",
      "Failed: removing T_max\n",
      "Day 3100 of 6190, 2011-11-22 00:00:00\n",
      "Failed: removing T_max\n",
      "Day 3200 of 6190, 2012-04-10 00:00:00\n",
      "Day 3300 of 6190, 2012-08-28 00:00:00\n",
      "Day 3400 of 6190, 2013-01-15 00:00:00\n",
      "Day 3500 of 6190, 2013-06-04 00:00:00\n",
      "Day 3600 of 6190, 2013-10-22 00:00:00\n",
      "Day 3700 of 6190, 2014-03-11 00:00:00\n",
      "Day 3800 of 6190, 2014-07-29 00:00:00\n",
      "Day 3900 of 6190, 2014-12-16 00:00:00\n",
      "Day 4000 of 6190, 2015-05-05 00:00:00\n",
      "Day 4100 of 6190, 2015-09-22 00:00:00\n",
      "Day 4200 of 6190, 2016-02-09 00:00:00\n",
      "Day 4300 of 6190, 2016-06-28 00:00:00\n",
      "Day 4400 of 6190, 2016-11-15 00:00:00\n",
      "Day 4500 of 6190, 2017-04-04 00:00:00\n",
      "Day 4600 of 6190, 2017-08-22 00:00:00\n",
      "Day 4700 of 6190, 2018-01-09 00:00:00\n",
      "Day 4800 of 6190, 2018-05-29 00:00:00\n",
      "Day 4900 of 6190, 2018-10-16 00:00:00\n",
      "Day 5000 of 6190, 2019-03-05 00:00:00\n",
      "Day 5100 of 6190, 2019-07-23 00:00:00\n",
      "Day 5200 of 6190, 2019-12-10 00:00:00\n",
      "Failed: removing T_max\n",
      "Failed: removing T_max\n",
      "Failed: removing T_max\n",
      "Failed: removing T_max\n",
      "Failed: removing T_max\n",
      "Failed: removing T_max\n",
      "Failed: removing T_max\n",
      "Failed: removing T_max\n",
      "Failed: removing T_max\n",
      "Failed: removing T_max\n",
      "Failed: removing T_max\n",
      "Failed: removing T_max\n",
      "Failed: removing T_max\n",
      "Failed: removing T_max\n",
      "Failed: removing T_max\n",
      "Failed: removing L_max\n",
      "Failed: removing T_max\n",
      "Failed: removing L_max\n",
      "Failed: removing T_max\n",
      "Failed: removing L_max\n",
      "Failed: removing T_max\n",
      "Failed: removing L_max\n",
      "Failed: removing T_max\n",
      "Failed: removing L_max\n",
      "Failed: removing T_max\n",
      "Failed: removing L_max\n",
      "Failed: removing T_max\n",
      "Failed: removing L_max\n",
      "Failed: removing T_max\n",
      "Day 5300 of 6190, 2020-04-28 00:00:00\n",
      "Failed: removing T_max\n",
      "Failed: removing T_max\n",
      "Failed: removing T_max\n",
      "Failed: removing T_max\n",
      "Day 5400 of 6190, 2020-09-15 00:00:00\n",
      "Failed: removing T_max\n",
      "Day 5500 of 6190, 2021-02-02 00:00:00\n",
      "Day 5600 of 6190, 2021-06-22 00:00:00\n",
      "Day 5700 of 6190, 2021-11-09 00:00:00\n",
      "Day 5800 of 6190, 2022-03-29 00:00:00\n",
      "Day 5900 of 6190, 2022-08-16 00:00:00\n",
      "Day 6000 of 6190, 2023-01-03 00:00:00\n",
      "Day 6100 of 6190, 2023-05-23 00:00:00\n"
     ]
    }
   ],
   "source": [
    "results, duals = run_backtest(\n",
    "    # strategy: Callable, risk_target: float, verbose: bool = False,\n",
    "    prices, spread, volume, rf, True,\n",
    ")"
   ]
  },
  {
   "cell_type": "code",
   "execution_count": 33,
   "metadata": {},
   "outputs": [
    {
     "data": {
      "text/plain": [
       "10.0"
      ]
     },
     "execution_count": 33,
     "metadata": {},
     "output_type": "execute_result"
    }
   ],
   "source": [
    "10/252 * 252"
   ]
  },
  {
   "cell_type": "code",
   "execution_count": 35,
   "metadata": {},
   "outputs": [
    {
     "name": "stdout",
     "output_type": "stream",
     "text": [
      "mean: 0.09888883284649798\n",
      "volatility: 0.10021556428044409\n",
      "max drawdown: -0.21454040398029073\n",
      "max leverage: 1.610985064846046\n",
      "sharpe: 1.004084261845295\n",
      "turnover: 18.549502794487584\n"
     ]
    }
   ],
   "source": [
    "print(f\"mean: {results.portfolio_returns.mean() * 252}\")\n",
    "print(f\"volatility: {results.portfolio_returns.std() * np.sqrt(252)}\")\n",
    "print(f\"max drawdown: {results.max_drawdown}\")\n",
    "print(f\"max leverage: {results.max_leverage}\")\n",
    "print(f\"sharpe: {results.sharpe}\")\n",
    "print(f\"turnover: {results.turnover}\")"
   ]
  },
  {
   "cell_type": "code",
   "execution_count": 69,
   "metadata": {},
   "outputs": [
    {
     "name": "stdout",
     "output_type": "stream",
     "text": [
      "mean: 0.11898647918073932\n",
      "volatility: 0.13668691122539112\n",
      "max drawdown: -0.2630880870121153\n",
      "max leverage: 1.9235078483587063\n",
      "sharpe: 0.8857859130483625\n",
      "turnover: 16.61892990122609\n"
     ]
    }
   ],
   "source": [
    "print(f\"mean: {results2.portfolio_returns.mean() * 252}\")\n",
    "print(f\"volatility: {results2.portfolio_returns.std() * np.sqrt(252)}\")\n",
    "print(f\"max drawdown: {results2.max_drawdown}\")\n",
    "print(f\"max leverage: {results2.max_leverage}\")\n",
    "print(f\"sharpe: {results2.sharpe}\")\n",
    "print(f\"turnover: {results2.turnover}\")"
   ]
  },
  {
   "cell_type": "code",
   "execution_count": 77,
   "metadata": {},
   "outputs": [
    {
     "data": {
      "text/plain": [
       "0.2871870788979635"
      ]
     },
     "execution_count": 77,
     "metadata": {},
     "output_type": "execute_result"
    }
   ],
   "source": [
    "(4-2*np.sqrt(3))**2"
   ]
  },
  {
   "cell_type": "code",
   "execution_count": 83,
   "metadata": {},
   "outputs": [
    {
     "data": {
      "text/plain": [
       "2.790419081085642"
      ]
     },
     "execution_count": 83,
     "metadata": {},
     "output_type": "execute_result"
    }
   ],
   "source": [
    "-72/38 + 20*(1-(37/38)**36) - 20 * (37/38)**36"
   ]
  },
  {
   "cell_type": "code",
   "execution_count": 76,
   "metadata": {},
   "outputs": [
    {
     "name": "stdout",
     "output_type": "stream",
     "text": [
      "mean: 0.09231373957817875\n",
      "volatility: 0.10606003538819855\n",
      "max drawdown: -0.25982737580283366\n",
      "max leverage: 2.3699631307778994\n",
      "sharpe: 0.8856714835842171\n",
      "turnover: 18.785408351372173\n"
     ]
    }
   ],
   "source": [
    "print(f\"mean: {results2.portfolio_returns.mean() * 252}\")\n",
    "print(f\"volatility: {results2.portfolio_returns.std() * np.sqrt(252)}\")\n",
    "print(f\"max drawdown: {results2.max_drawdown}\")\n",
    "print(f\"max leverage: {results2.max_leverage}\")\n",
    "print(f\"sharpe: {results2.sharpe}\")\n",
    "print(f\"turnover: {results2.turnover}\")"
   ]
  },
  {
   "cell_type": "code",
   "execution_count": 73,
   "metadata": {},
   "outputs": [
    {
     "name": "stderr",
     "output_type": "stream",
     "text": [
      "/Users/kasper/Documents/Stanford/Research/My papers/markowitz/reference_implementation/markowitz-reference/.venv/lib/python3.9/site-packages/matplotlib/axis.py:1769: FutureWarning: Period with BDay freq is deprecated and will be removed in a future version. Use a DatetimeIndex with BDay freq instead.\n",
      "  ret = self.converter.convert(x, self.units, self)\n",
      "/Users/kasper/Documents/Stanford/Research/My papers/markowitz/reference_implementation/markowitz-reference/.venv/lib/python3.9/site-packages/matplotlib/axis.py:1769: FutureWarning: PeriodDtype[B] is deprecated and will be removed in a future version. Use a DatetimeIndex with freq='B' instead\n",
      "  ret = self.converter.convert(x, self.units, self)\n",
      "/Users/kasper/Documents/Stanford/Research/My papers/markowitz/reference_implementation/markowitz-reference/.venv/lib/python3.9/site-packages/matplotlib/axis.py:1495: FutureWarning: Period with BDay freq is deprecated and will be removed in a future version. Use a DatetimeIndex with BDay freq instead.\n",
      "  return self.major.locator()\n",
      "/Users/kasper/Documents/Stanford/Research/My papers/markowitz/reference_implementation/markowitz-reference/.venv/lib/python3.9/site-packages/matplotlib/axis.py:1495: FutureWarning: PeriodDtype[B] is deprecated and will be removed in a future version. Use a DatetimeIndex with freq='B' instead\n",
      "  return self.major.locator()\n",
      "/Users/kasper/Documents/Stanford/Research/My papers/markowitz/reference_implementation/markowitz-reference/.venv/lib/python3.9/site-packages/matplotlib/ticker.py:216: FutureWarning: Period with BDay freq is deprecated and will be removed in a future version. Use a DatetimeIndex with BDay freq instead.\n",
      "  return [self(value, i) for i, value in enumerate(values)]\n",
      "/Users/kasper/Documents/Stanford/Research/My papers/markowitz/reference_implementation/markowitz-reference/.venv/lib/python3.9/site-packages/matplotlib/axis.py:1769: FutureWarning: PeriodDtype[B] is deprecated and will be removed in a future version. Use a DatetimeIndex with freq='B' instead\n",
      "  ret = self.converter.convert(x, self.units, self)\n",
      "/Users/kasper/Documents/Stanford/Research/My papers/markowitz/reference_implementation/markowitz-reference/.venv/lib/python3.9/site-packages/matplotlib/axis.py:1495: FutureWarning: Period with BDay freq is deprecated and will be removed in a future version. Use a DatetimeIndex with BDay freq instead.\n",
      "  return self.major.locator()\n",
      "/Users/kasper/Documents/Stanford/Research/My papers/markowitz/reference_implementation/markowitz-reference/.venv/lib/python3.9/site-packages/matplotlib/axis.py:1495: FutureWarning: PeriodDtype[B] is deprecated and will be removed in a future version. Use a DatetimeIndex with freq='B' instead\n",
      "  return self.major.locator()\n",
      "/Users/kasper/Documents/Stanford/Research/My papers/markowitz/reference_implementation/markowitz-reference/.venv/lib/python3.9/site-packages/matplotlib/ticker.py:216: FutureWarning: Period with BDay freq is deprecated and will be removed in a future version. Use a DatetimeIndex with BDay freq instead.\n",
      "  return [self(value, i) for i, value in enumerate(values)]\n"
     ]
    },
    {
     "data": {
      "image/png": "[encoded data removed]",
      "text/plain": [
       "<Figure size 640x480 with 1 Axes>"
      ]
     },
     "metadata": {},
     "output_type": "display_data"
    }
   ],
   "source": [
    "results.portfolio_value.plot()\n",
    "results2.portfolio_value.plot()\n",
    "\n",
    "plt.yscale(\"log\")"
   ]
  },
  {
   "cell_type": "code",
   "execution_count": 13,
   "metadata": {},
   "outputs": [
    {
     "name": "stdout",
     "output_type": "stream",
     "text": [
      "mean: 0.10672537668119053\n",
      "volatility: 0.11644357518590612\n",
      "max drawdown: -0.19847506847099672\n",
      "max leverage: 2.983746552565785\n",
      "sharpe: 0.9326318657509529\n"
     ]
    }
   ],
   "source": [
    "print(f\"mean: {results2.portfolio_returns.mean() * 252}\")\n",
    "print(f\"volatility: {results2.portfolio_returns.std() * np.sqrt(252)}\")\n",
    "print(f\"max drawdown: {results2.max_drawdown}\")\n",
    "print(f\"max leverage: {results2.max_leverage}\")\n",
    "print(f\"sharpe: {results2.sharpe}\")"
   ]
  },
  {
   "cell_type": "code",
   "execution_count": 29,
   "metadata": {},
   "outputs": [
    {
     "name": "stderr",
     "output_type": "stream",
     "text": [
      "/Users/kasper/Documents/Stanford/Research/My papers/markowitz/reference_implementation/markowitz-reference/experiments/backtest.py:224: FutureWarning: The default fill_method='pad' in Series.pct_change is deprecated and will be removed in a future version. Call ffill before calling pct_change to retain current behavior and silence this warning.\n",
      "  return self.portfolio_value.pct_change().dropna()\n"
     ]
    },
    {
     "data": {
      "text/plain": [
       "Series([], dtype: float64)"
      ]
     },
     "execution_count": 29,
     "metadata": {},
     "output_type": "execute_result"
    }
   ],
   "source": [
    "results2.portfolio_returns"
   ]
  },
  {
   "cell_type": "code",
   "execution_count": 62,
   "metadata": {},
   "outputs": [],
   "source": [
    "# create dataframe where rows are duals.WUpper\n",
    "Wupper = pd.DataFrame([duals.WUpper.values[i] for i in range(duals.shape[0])])\n",
    "Wupper.index = duals.index\n",
    "Wupper = Wupper.rolling(100, min_periods=1).quantile(0.8)\n",
    "WLower = pd.DataFrame([duals.WLower.values[i] for i in range(duals.shape[0])])\n",
    "WLower.index = duals.index\n",
    "WLower = WLower.rolling(100, min_periods=1).quantile(0.8)\n",
    "\n",
    "Zupper = pd.DataFrame([duals.ZUpper.values[i] for i in range(duals.shape[0])])\n",
    "Zupper.index = duals.index\n",
    "Zupper = Zupper.rolling(100, min_periods=1).quantile(0.8)\n",
    "ZLower = pd.DataFrame([duals.ZLower.values[i] for i in range(duals.shape[0])])\n",
    "ZLower.index = duals.index\n",
    "ZLower = ZLower.rolling(100, min_periods=1).quantile(0.8)"
   ]
  },
  {
   "cell_type": "code",
   "execution_count": 74,
   "metadata": {},
   "outputs": [],
   "source": [
    "priorities = pd.DataFrame(index = duals.index, columns=duals.columns)\n",
    "\n",
    "for t in priorities.index:\n",
    "    priorities.loc[t][\"WUpper\"] = Wupper.loc[t].values\n",
    "    priorities.loc[t][\"WLower\"] = WLower.loc[t].values\n",
    "    priorities.loc[t][\"ZUpper\"] = Zupper.loc[t].values * 0\n",
    "    priorities.loc[t][\"ZLower\"] = ZLower.loc[t].values * 0\n",
    "\n",
    "columns_remaining = [\"Risk\", \"CLower\", \"CUpper\"]\n",
    "priorities[columns_remaining] = duals[columns_remaining].rolling(100, min_periods=1).quantile(0.99) \n",
    "\n",
    "priorities[\"Leverage\"] = duals[\"Leverage\"].rolling(100, min_periods=1).quantile(0.9)\n",
    "priorities[\"Turnover\"] = duals[\"Turnover\"].rolling(100, min_periods=1).quantile(0.8)"
   ]
  },
  {
   "cell_type": "code",
   "execution_count": 18,
   "metadata": {},
   "outputs": [
    {
     "data": {
      "text/plain": [
       "1.11194306017219"
      ]
     },
     "execution_count": 18,
     "metadata": {},
     "output_type": "execute_result"
    }
   ],
   "source": [
    "0.00111194306017219 * 1000"
   ]
  },
  {
   "cell_type": "code",
   "execution_count": 75,
   "metadata": {},
   "outputs": [
    {
     "name": "stdout",
     "output_type": "stream",
     "text": [
      "Day 500 of 6190, 2001-12-04 00:00:00\n",
      "Day 600 of 6190, 2002-04-23 00:00:00\n",
      "Day 700 of 6190, 2002-09-10 00:00:00\n",
      "Day 800 of 6190, 2003-01-28 00:00:00\n",
      "Day 900 of 6190, 2003-06-17 00:00:00\n",
      "Day 1000 of 6190, 2003-11-04 00:00:00\n",
      "Day 1100 of 6190, 2004-03-23 00:00:00\n",
      "Day 1200 of 6190, 2004-08-10 00:00:00\n",
      "Day 1300 of 6190, 2004-12-28 00:00:00\n",
      "Day 1400 of 6190, 2005-05-17 00:00:00\n",
      "Day 1500 of 6190, 2005-10-04 00:00:00\n",
      "Day 1600 of 6190, 2006-02-21 00:00:00\n",
      "Day 1700 of 6190, 2006-07-11 00:00:00\n",
      "Day 1800 of 6190, 2006-11-28 00:00:00\n",
      "Day 1900 of 6190, 2007-04-17 00:00:00\n",
      "Day 2000 of 6190, 2007-09-04 00:00:00\n",
      "Day 2100 of 6190, 2008-01-22 00:00:00\n",
      "Day 2200 of 6190, 2008-06-10 00:00:00\n",
      "Day 2300 of 6190, 2008-10-28 00:00:00\n",
      "Day 2400 of 6190, 2009-03-17 00:00:00\n",
      "Day 2500 of 6190, 2009-08-04 00:00:00\n",
      "Day 2600 of 6190, 2009-12-22 00:00:00\n",
      "Day 2700 of 6190, 2010-05-11 00:00:00\n",
      "Day 2800 of 6190, 2010-09-28 00:00:00\n",
      "Day 2900 of 6190, 2011-02-15 00:00:00\n",
      "Day 3000 of 6190, 2011-07-05 00:00:00\n",
      "Day 3100 of 6190, 2011-11-22 00:00:00\n",
      "Day 3200 of 6190, 2012-04-10 00:00:00\n",
      "Day 3300 of 6190, 2012-08-28 00:00:00\n",
      "Day 3400 of 6190, 2013-01-15 00:00:00\n",
      "Day 3500 of 6190, 2013-06-04 00:00:00\n",
      "Day 3600 of 6190, 2013-10-22 00:00:00\n",
      "Day 3700 of 6190, 2014-03-11 00:00:00\n",
      "Day 3800 of 6190, 2014-07-29 00:00:00\n",
      "Day 3900 of 6190, 2014-12-16 00:00:00\n",
      "Day 4000 of 6190, 2015-05-05 00:00:00\n",
      "Day 4100 of 6190, 2015-09-22 00:00:00\n",
      "Day 4200 of 6190, 2016-02-09 00:00:00\n",
      "Day 4300 of 6190, 2016-06-28 00:00:00\n",
      "Day 4400 of 6190, 2016-11-15 00:00:00\n",
      "Day 4500 of 6190, 2017-04-04 00:00:00\n",
      "Day 4600 of 6190, 2017-08-22 00:00:00\n",
      "Day 4700 of 6190, 2018-01-09 00:00:00\n",
      "Day 4800 of 6190, 2018-05-29 00:00:00\n",
      "Day 4900 of 6190, 2018-10-16 00:00:00\n",
      "Day 5000 of 6190, 2019-03-05 00:00:00\n",
      "Day 5100 of 6190, 2019-07-23 00:00:00\n",
      "Day 5200 of 6190, 2019-12-10 00:00:00\n",
      "Day 5300 of 6190, 2020-04-28 00:00:00\n",
      "Day 5400 of 6190, 2020-09-15 00:00:00\n",
      "Day 5500 of 6190, 2021-02-02 00:00:00\n",
      "Day 5600 of 6190, 2021-06-22 00:00:00\n",
      "Day 5700 of 6190, 2021-11-09 00:00:00\n",
      "Day 5800 of 6190, 2022-03-29 00:00:00\n",
      "Day 5900 of 6190, 2022-08-16 00:00:00\n",
      "Day 6000 of 6190, 2023-01-03 00:00:00\n",
      "Day 6100 of 6190, 2023-05-23 00:00:00\n"
     ]
    }
   ],
   "source": [
    "results2, risks, turnovers = run_backtest2(\n",
    "    # strategy: Callable, risk_target: float, verbose: bool = False,\n",
    "    prices, spread, volume, rf, priorities.abs(), True\n",
    ")"
   ]
  },
  {
   "cell_type": "code",
   "execution_count": 68,
   "metadata": {},
   "outputs": [
    {
     "data": {
      "text/html": [
       "<div>\n",
       "<style scoped>\n",
       "    .dataframe tbody tr th:only-of-type {\n",
       "        vertical-align: middle;\n",
       "    }\n",
       "\n",
       "    .dataframe tbody tr th {\n",
       "        vertical-align: top;\n",
       "    }\n",
       "\n",
       "    .dataframe thead th {\n",
       "        text-align: right;\n",
       "    }\n",
       "</style>\n",
       "<table border=\"1\" class=\"dataframe\">\n",
       "  <thead>\n",
       "    <tr style=\"text-align: right;\">\n",
       "      <th></th>\n",
       "      <th>T0</th>\n",
       "      <th>T1</th>\n",
       "      <th>T3</th>\n",
       "      <th>T4</th>\n",
       "      <th>T5</th>\n",
       "      <th>T6</th>\n",
       "      <th>T7</th>\n",
       "      <th>T8</th>\n",
       "      <th>T9</th>\n",
       "      <th>T10</th>\n",
       "      <th>...</th>\n",
       "      <th>T89</th>\n",
       "      <th>T90</th>\n",
       "      <th>T92</th>\n",
       "      <th>T93</th>\n",
       "      <th>T94</th>\n",
       "      <th>T95</th>\n",
       "      <th>T96</th>\n",
       "      <th>T98</th>\n",
       "      <th>T99</th>\n",
       "      <th>T100</th>\n",
       "    </tr>\n",
       "  </thead>\n",
       "  <tbody>\n",
       "    <tr>\n",
       "      <th>2000-01-05</th>\n",
       "      <td>-0.025398</td>\n",
       "      <td>0.046893</td>\n",
       "      <td>0.060678</td>\n",
       "      <td>0.029942</td>\n",
       "      <td>-0.004416</td>\n",
       "      <td>0.026336</td>\n",
       "      <td>0.021299</td>\n",
       "      <td>0.041501</td>\n",
       "      <td>-0.018286</td>\n",
       "      <td>0.051260</td>\n",
       "      <td>...</td>\n",
       "      <td>0.019823</td>\n",
       "      <td>-0.003551</td>\n",
       "      <td>0.008401</td>\n",
       "      <td>0.020228</td>\n",
       "      <td>0.061013</td>\n",
       "      <td>0.054994</td>\n",
       "      <td>0.003040</td>\n",
       "      <td>-0.023089</td>\n",
       "      <td>0.057692</td>\n",
       "      <td>-0.003393</td>\n",
       "    </tr>\n",
       "    <tr>\n",
       "      <th>2000-01-06</th>\n",
       "      <td>0.021220</td>\n",
       "      <td>-0.010311</td>\n",
       "      <td>0.010249</td>\n",
       "      <td>0.044252</td>\n",
       "      <td>0.015084</td>\n",
       "      <td>0.041056</td>\n",
       "      <td>0.001100</td>\n",
       "      <td>-0.030361</td>\n",
       "      <td>0.045847</td>\n",
       "      <td>0.057275</td>\n",
       "      <td>...</td>\n",
       "      <td>0.029155</td>\n",
       "      <td>-0.003563</td>\n",
       "      <td>0.024993</td>\n",
       "      <td>0.026399</td>\n",
       "      <td>0.039316</td>\n",
       "      <td>-0.067926</td>\n",
       "      <td>0.017840</td>\n",
       "      <td>0.045790</td>\n",
       "      <td>-0.005188</td>\n",
       "      <td>0.044150</td>\n",
       "    </tr>\n",
       "    <tr>\n",
       "      <th>2000-01-07</th>\n",
       "      <td>0.013300</td>\n",
       "      <td>-0.003173</td>\n",
       "      <td>0.029033</td>\n",
       "      <td>0.032688</td>\n",
       "      <td>0.017481</td>\n",
       "      <td>0.016898</td>\n",
       "      <td>0.063595</td>\n",
       "      <td>-0.023483</td>\n",
       "      <td>-0.010956</td>\n",
       "      <td>-0.005125</td>\n",
       "      <td>...</td>\n",
       "      <td>0.073653</td>\n",
       "      <td>0.023816</td>\n",
       "      <td>0.043161</td>\n",
       "      <td>-0.023890</td>\n",
       "      <td>0.111840</td>\n",
       "      <td>0.020334</td>\n",
       "      <td>0.002893</td>\n",
       "      <td>0.028248</td>\n",
       "      <td>0.000000</td>\n",
       "      <td>0.017886</td>\n",
       "    </tr>\n",
       "    <tr>\n",
       "      <th>2000-01-10</th>\n",
       "      <td>0.014358</td>\n",
       "      <td>-0.005315</td>\n",
       "      <td>-0.014089</td>\n",
       "      <td>-0.032829</td>\n",
       "      <td>-0.017181</td>\n",
       "      <td>-0.026313</td>\n",
       "      <td>-0.029896</td>\n",
       "      <td>0.152305</td>\n",
       "      <td>-0.002769</td>\n",
       "      <td>-0.013982</td>\n",
       "      <td>...</td>\n",
       "      <td>-0.039578</td>\n",
       "      <td>0.030227</td>\n",
       "      <td>0.010344</td>\n",
       "      <td>0.009426</td>\n",
       "      <td>-0.004435</td>\n",
       "      <td>-0.003316</td>\n",
       "      <td>-0.040808</td>\n",
       "      <td>-0.012361</td>\n",
       "      <td>0.016973</td>\n",
       "      <td>-0.028758</td>\n",
       "    </tr>\n",
       "    <tr>\n",
       "      <th>2000-01-11</th>\n",
       "      <td>0.009299</td>\n",
       "      <td>-0.014956</td>\n",
       "      <td>-0.014326</td>\n",
       "      <td>-0.015756</td>\n",
       "      <td>-0.023602</td>\n",
       "      <td>-0.009245</td>\n",
       "      <td>0.034007</td>\n",
       "      <td>0.010434</td>\n",
       "      <td>-0.001394</td>\n",
       "      <td>0.011941</td>\n",
       "      <td>...</td>\n",
       "      <td>0.003662</td>\n",
       "      <td>-0.027083</td>\n",
       "      <td>-0.002526</td>\n",
       "      <td>-0.008410</td>\n",
       "      <td>0.005941</td>\n",
       "      <td>0.004999</td>\n",
       "      <td>-0.033434</td>\n",
       "      <td>-0.031988</td>\n",
       "      <td>0.050069</td>\n",
       "      <td>-0.019736</td>\n",
       "    </tr>\n",
       "    <tr>\n",
       "      <th>...</th>\n",
       "      <td>...</td>\n",
       "      <td>...</td>\n",
       "      <td>...</td>\n",
       "      <td>...</td>\n",
       "      <td>...</td>\n",
       "      <td>...</td>\n",
       "      <td>...</td>\n",
       "      <td>...</td>\n",
       "      <td>...</td>\n",
       "      <td>...</td>\n",
       "      <td>...</td>\n",
       "      <td>...</td>\n",
       "      <td>...</td>\n",
       "      <td>...</td>\n",
       "      <td>...</td>\n",
       "      <td>...</td>\n",
       "      <td>...</td>\n",
       "      <td>...</td>\n",
       "      <td>...</td>\n",
       "      <td>...</td>\n",
       "      <td>...</td>\n",
       "    </tr>\n",
       "    <tr>\n",
       "      <th>2023-09-20</th>\n",
       "      <td>-0.013304</td>\n",
       "      <td>0.005988</td>\n",
       "      <td>-0.010319</td>\n",
       "      <td>-0.003790</td>\n",
       "      <td>-0.004230</td>\n",
       "      <td>-0.003050</td>\n",
       "      <td>0.004469</td>\n",
       "      <td>0.007567</td>\n",
       "      <td>-0.016158</td>\n",
       "      <td>-0.007926</td>\n",
       "      <td>...</td>\n",
       "      <td>-0.009253</td>\n",
       "      <td>-0.011908</td>\n",
       "      <td>-0.004376</td>\n",
       "      <td>-0.002342</td>\n",
       "      <td>-0.013918</td>\n",
       "      <td>-0.008057</td>\n",
       "      <td>0.003856</td>\n",
       "      <td>-0.011112</td>\n",
       "      <td>-0.006130</td>\n",
       "      <td>-0.008098</td>\n",
       "    </tr>\n",
       "    <tr>\n",
       "      <th>2023-09-21</th>\n",
       "      <td>-0.016027</td>\n",
       "      <td>-0.009226</td>\n",
       "      <td>-0.011958</td>\n",
       "      <td>-0.023617</td>\n",
       "      <td>-0.007822</td>\n",
       "      <td>-0.008999</td>\n",
       "      <td>-0.015400</td>\n",
       "      <td>0.002059</td>\n",
       "      <td>-0.017331</td>\n",
       "      <td>-0.014089</td>\n",
       "      <td>...</td>\n",
       "      <td>-0.034250</td>\n",
       "      <td>-0.020008</td>\n",
       "      <td>-0.018636</td>\n",
       "      <td>-0.014019</td>\n",
       "      <td>-0.004085</td>\n",
       "      <td>0.006722</td>\n",
       "      <td>-0.022040</td>\n",
       "      <td>-0.016209</td>\n",
       "      <td>-0.026053</td>\n",
       "      <td>-0.012829</td>\n",
       "    </tr>\n",
       "    <tr>\n",
       "      <th>2023-09-22</th>\n",
       "      <td>-0.010536</td>\n",
       "      <td>-0.000300</td>\n",
       "      <td>-0.011203</td>\n",
       "      <td>0.003786</td>\n",
       "      <td>-0.009583</td>\n",
       "      <td>0.006598</td>\n",
       "      <td>0.001043</td>\n",
       "      <td>-0.017890</td>\n",
       "      <td>0.000756</td>\n",
       "      <td>0.001568</td>\n",
       "      <td>...</td>\n",
       "      <td>0.000745</td>\n",
       "      <td>-0.000570</td>\n",
       "      <td>0.000358</td>\n",
       "      <td>-0.010616</td>\n",
       "      <td>-0.002361</td>\n",
       "      <td>-0.010294</td>\n",
       "      <td>-0.009316</td>\n",
       "      <td>-0.006671</td>\n",
       "      <td>-0.008079</td>\n",
       "      <td>-0.025756</td>\n",
       "    </tr>\n",
       "    <tr>\n",
       "      <th>2023-09-25</th>\n",
       "      <td>0.000980</td>\n",
       "      <td>-0.003606</td>\n",
       "      <td>0.005412</td>\n",
       "      <td>0.004431</td>\n",
       "      <td>0.004941</td>\n",
       "      <td>0.014614</td>\n",
       "      <td>-0.010417</td>\n",
       "      <td>-0.002954</td>\n",
       "      <td>0.016029</td>\n",
       "      <td>0.011223</td>\n",
       "      <td>...</td>\n",
       "      <td>0.003179</td>\n",
       "      <td>0.009549</td>\n",
       "      <td>0.004029</td>\n",
       "      <td>0.003446</td>\n",
       "      <td>-0.003737</td>\n",
       "      <td>0.019958</td>\n",
       "      <td>-0.001813</td>\n",
       "      <td>-0.003969</td>\n",
       "      <td>-0.002752</td>\n",
       "      <td>0.008004</td>\n",
       "    </tr>\n",
       "    <tr>\n",
       "      <th>2023-09-26</th>\n",
       "      <td>-0.010964</td>\n",
       "      <td>-0.001809</td>\n",
       "      <td>-0.005836</td>\n",
       "      <td>-0.008969</td>\n",
       "      <td>-0.008330</td>\n",
       "      <td>-0.002430</td>\n",
       "      <td>-0.008509</td>\n",
       "      <td>-0.006789</td>\n",
       "      <td>0.001322</td>\n",
       "      <td>0.003786</td>\n",
       "      <td>...</td>\n",
       "      <td>-0.002372</td>\n",
       "      <td>-0.012518</td>\n",
       "      <td>-0.021850</td>\n",
       "      <td>-0.007129</td>\n",
       "      <td>-0.011504</td>\n",
       "      <td>-0.011575</td>\n",
       "      <td>-0.007048</td>\n",
       "      <td>-0.008991</td>\n",
       "      <td>-0.002318</td>\n",
       "      <td>-0.015520</td>\n",
       "    </tr>\n",
       "  </tbody>\n",
       "</table>\n",
       "<p>6190 rows × 75 columns</p>\n",
       "</div>"
      ],
      "text/plain": [
       "                  T0        T1        T3        T4        T5        T6  \\\n",
       "2000-01-05 -0.025398  0.046893  0.060678  0.029942 -0.004416  0.026336   \n",
       "2000-01-06  0.021220 -0.010311  0.010249  0.044252  0.015084  0.041056   \n",
       "2000-01-07  0.013300 -0.003173  0.029033  0.032688  0.017481  0.016898   \n",
       "2000-01-10  0.014358 -0.005315 -0.014089 -0.032829 -0.017181 -0.026313   \n",
       "2000-01-11  0.009299 -0.014956 -0.014326 -0.015756 -0.023602 -0.009245   \n",
       "...              ...       ...       ...       ...       ...       ...   \n",
       "2023-09-20 -0.013304  0.005988 -0.010319 -0.003790 -0.004230 -0.003050   \n",
       "2023-09-21 -0.016027 -0.009226 -0.011958 -0.023617 -0.007822 -0.008999   \n",
       "2023-09-22 -0.010536 -0.000300 -0.011203  0.003786 -0.009583  0.006598   \n",
       "2023-09-25  0.000980 -0.003606  0.005412  0.004431  0.004941  0.014614   \n",
       "2023-09-26 -0.010964 -0.001809 -0.005836 -0.008969 -0.008330 -0.002430   \n",
       "\n",
       "                  T7        T8        T9       T10  ...       T89       T90  \\\n",
       "2000-01-05  0.021299  0.041501 -0.018286  0.051260  ...  0.019823 -0.003551   \n",
       "2000-01-06  0.001100 -0.030361  0.045847  0.057275  ...  0.029155 -0.003563   \n",
       "2000-01-07  0.063595 -0.023483 -0.010956 -0.005125  ...  0.073653  0.023816   \n",
       "2000-01-10 -0.029896  0.152305 -0.002769 -0.013982  ... -0.039578  0.030227   \n",
       "2000-01-11  0.034007  0.010434 -0.001394  0.011941  ...  0.003662 -0.027083   \n",
       "...              ...       ...       ...       ...  ...       ...       ...   \n",
       "2023-09-20  0.004469  0.007567 -0.016158 -0.007926  ... -0.009253 -0.011908   \n",
       "2023-09-21 -0.015400  0.002059 -0.017331 -0.014089  ... -0.034250 -0.020008   \n",
       "2023-09-22  0.001043 -0.017890  0.000756  0.001568  ...  0.000745 -0.000570   \n",
       "2023-09-25 -0.010417 -0.002954  0.016029  0.011223  ...  0.003179  0.009549   \n",
       "2023-09-26 -0.008509 -0.006789  0.001322  0.003786  ... -0.002372 -0.012518   \n",
       "\n",
       "                 T92       T93       T94       T95       T96       T98  \\\n",
       "2000-01-05  0.008401  0.020228  0.061013  0.054994  0.003040 -0.023089   \n",
       "2000-01-06  0.024993  0.026399  0.039316 -0.067926  0.017840  0.045790   \n",
       "2000-01-07  0.043161 -0.023890  0.111840  0.020334  0.002893  0.028248   \n",
       "2000-01-10  0.010344  0.009426 -0.004435 -0.003316 -0.040808 -0.012361   \n",
       "2000-01-11 -0.002526 -0.008410  0.005941  0.004999 -0.033434 -0.031988   \n",
       "...              ...       ...       ...       ...       ...       ...   \n",
       "2023-09-20 -0.004376 -0.002342 -0.013918 -0.008057  0.003856 -0.011112   \n",
       "2023-09-21 -0.018636 -0.014019 -0.004085  0.006722 -0.022040 -0.016209   \n",
       "2023-09-22  0.000358 -0.010616 -0.002361 -0.010294 -0.009316 -0.006671   \n",
       "2023-09-25  0.004029  0.003446 -0.003737  0.019958 -0.001813 -0.003969   \n",
       "2023-09-26 -0.021850 -0.007129 -0.011504 -0.011575 -0.007048 -0.008991   \n",
       "\n",
       "                 T99      T100  \n",
       "2000-01-05  0.057692 -0.003393  \n",
       "2000-01-06 -0.005188  0.044150  \n",
       "2000-01-07  0.000000  0.017886  \n",
       "2000-01-10  0.016973 -0.028758  \n",
       "2000-01-11  0.050069 -0.019736  \n",
       "...              ...       ...  \n",
       "2023-09-20 -0.006130 -0.008098  \n",
       "2023-09-21 -0.026053 -0.012829  \n",
       "2023-09-22 -0.008079 -0.025756  \n",
       "2023-09-25 -0.002752  0.008004  \n",
       "2023-09-26 -0.002318 -0.015520  \n",
       "\n",
       "[6190 rows x 75 columns]"
      ]
     },
     "execution_count": 68,
     "metadata": {},
     "output_type": "execute_result"
    }
   ],
   "source": [
    "returns"
   ]
  },
  {
   "cell_type": "code",
   "execution_count": 126,
   "metadata": {},
   "outputs": [
    {
     "name": "stderr",
     "output_type": "stream",
     "text": [
      "/Users/kasper/Documents/Stanford/Research/My papers/markowitz/reference_implementation/markowitz-reference/.venv/lib/python3.9/site-packages/matplotlib/axis.py:1769: FutureWarning: Period with BDay freq is deprecated and will be removed in a future version. Use a DatetimeIndex with BDay freq instead.\n",
      "  ret = self.converter.convert(x, self.units, self)\n",
      "/Users/kasper/Documents/Stanford/Research/My papers/markowitz/reference_implementation/markowitz-reference/.venv/lib/python3.9/site-packages/matplotlib/axis.py:1769: FutureWarning: PeriodDtype[B] is deprecated and will be removed in a future version. Use a DatetimeIndex with freq='B' instead\n",
      "  ret = self.converter.convert(x, self.units, self)\n",
      "/Users/kasper/Documents/Stanford/Research/My papers/markowitz/reference_implementation/markowitz-reference/.venv/lib/python3.9/site-packages/matplotlib/axis.py:1495: FutureWarning: Period with BDay freq is deprecated and will be removed in a future version. Use a DatetimeIndex with BDay freq instead.\n",
      "  return self.major.locator()\n",
      "/Users/kasper/Documents/Stanford/Research/My papers/markowitz/reference_implementation/markowitz-reference/.venv/lib/python3.9/site-packages/matplotlib/axis.py:1495: FutureWarning: PeriodDtype[B] is deprecated and will be removed in a future version. Use a DatetimeIndex with freq='B' instead\n",
      "  return self.major.locator()\n",
      "/Users/kasper/Documents/Stanford/Research/My papers/markowitz/reference_implementation/markowitz-reference/.venv/lib/python3.9/site-packages/matplotlib/ticker.py:216: FutureWarning: Period with BDay freq is deprecated and will be removed in a future version. Use a DatetimeIndex with BDay freq instead.\n",
      "  return [self(value, i) for i, value in enumerate(values)]\n"
     ]
    },
    {
     "data": {
      "image/png": "[encoded data removed]",
      "text/plain": [
       "<Figure size 640x480 with 1 Axes>"
      ]
     },
     "metadata": {},
     "output_type": "display_data"
    }
   ],
   "source": [
    "(results2.portfolio_value/results.portfolio_value).plot()\n",
    "plt.yscale(\"log\")"
   ]
  },
  {
   "cell_type": "code",
   "execution_count": 133,
   "metadata": {},
   "outputs": [
    {
     "name": "stderr",
     "output_type": "stream",
     "text": [
      "/Users/kasper/Documents/Stanford/Research/My papers/markowitz/reference_implementation/markowitz-reference/.venv/lib/python3.9/site-packages/matplotlib/axis.py:1769: FutureWarning: Period with BDay freq is deprecated and will be removed in a future version. Use a DatetimeIndex with BDay freq instead.\n",
      "  ret = self.converter.convert(x, self.units, self)\n",
      "/Users/kasper/Documents/Stanford/Research/My papers/markowitz/reference_implementation/markowitz-reference/.venv/lib/python3.9/site-packages/matplotlib/axis.py:1769: FutureWarning: PeriodDtype[B] is deprecated and will be removed in a future version. Use a DatetimeIndex with freq='B' instead\n",
      "  ret = self.converter.convert(x, self.units, self)\n",
      "/Users/kasper/Documents/Stanford/Research/My papers/markowitz/reference_implementation/markowitz-reference/.venv/lib/python3.9/site-packages/matplotlib/axis.py:1495: FutureWarning: Period with BDay freq is deprecated and will be removed in a future version. Use a DatetimeIndex with BDay freq instead.\n",
      "  return self.major.locator()\n",
      "/Users/kasper/Documents/Stanford/Research/My papers/markowitz/reference_implementation/markowitz-reference/.venv/lib/python3.9/site-packages/matplotlib/axis.py:1495: FutureWarning: PeriodDtype[B] is deprecated and will be removed in a future version. Use a DatetimeIndex with freq='B' instead\n",
      "  return self.major.locator()\n",
      "/Users/kasper/Documents/Stanford/Research/My papers/markowitz/reference_implementation/markowitz-reference/.venv/lib/python3.9/site-packages/matplotlib/ticker.py:216: FutureWarning: Period with BDay freq is deprecated and will be removed in a future version. Use a DatetimeIndex with BDay freq instead.\n",
      "  return [self(value, i) for i, value in enumerate(values)]\n",
      "/Users/kasper/Documents/Stanford/Research/My papers/markowitz/reference_implementation/markowitz-reference/.venv/lib/python3.9/site-packages/matplotlib/axis.py:1769: FutureWarning: PeriodDtype[B] is deprecated and will be removed in a future version. Use a DatetimeIndex with freq='B' instead\n",
      "  ret = self.converter.convert(x, self.units, self)\n",
      "/Users/kasper/Documents/Stanford/Research/My papers/markowitz/reference_implementation/markowitz-reference/.venv/lib/python3.9/site-packages/matplotlib/axis.py:1495: FutureWarning: Period with BDay freq is deprecated and will be removed in a future version. Use a DatetimeIndex with BDay freq instead.\n",
      "  return self.major.locator()\n",
      "/Users/kasper/Documents/Stanford/Research/My papers/markowitz/reference_implementation/markowitz-reference/.venv/lib/python3.9/site-packages/matplotlib/axis.py:1495: FutureWarning: PeriodDtype[B] is deprecated and will be removed in a future version. Use a DatetimeIndex with freq='B' instead\n",
      "  return self.major.locator()\n",
      "/Users/kasper/Documents/Stanford/Research/My papers/markowitz/reference_implementation/markowitz-reference/.venv/lib/python3.9/site-packages/matplotlib/ticker.py:216: FutureWarning: Period with BDay freq is deprecated and will be removed in a future version. Use a DatetimeIndex with BDay freq instead.\n",
      "  return [self(value, i) for i, value in enumerate(values)]\n",
      "/Users/kasper/Documents/Stanford/Research/My papers/markowitz/reference_implementation/markowitz-reference/.venv/lib/python3.9/site-packages/matplotlib/axis.py:1769: FutureWarning: PeriodDtype[B] is deprecated and will be removed in a future version. Use a DatetimeIndex with freq='B' instead\n",
      "  ret = self.converter.convert(x, self.units, self)\n",
      "/Users/kasper/Documents/Stanford/Research/My papers/markowitz/reference_implementation/markowitz-reference/.venv/lib/python3.9/site-packages/matplotlib/axis.py:1495: FutureWarning: Period with BDay freq is deprecated and will be removed in a future version. Use a DatetimeIndex with BDay freq instead.\n",
      "  return self.major.locator()\n",
      "/Users/kasper/Documents/Stanford/Research/My papers/markowitz/reference_implementation/markowitz-reference/.venv/lib/python3.9/site-packages/matplotlib/axis.py:1495: FutureWarning: PeriodDtype[B] is deprecated and will be removed in a future version. Use a DatetimeIndex with freq='B' instead\n",
      "  return self.major.locator()\n",
      "/Users/kasper/Documents/Stanford/Research/My papers/markowitz/reference_implementation/markowitz-reference/.venv/lib/python3.9/site-packages/matplotlib/ticker.py:216: FutureWarning: Period with BDay freq is deprecated and will be removed in a future version. Use a DatetimeIndex with BDay freq instead.\n",
      "  return [self(value, i) for i, value in enumerate(values)]\n"
     ]
    },
    {
     "data": {
      "image/png": "[encoded data removed]",
      "text/plain": [
       "<Figure size 640x480 with 1 Axes>"
      ]
     },
     "metadata": {},
     "output_type": "display_data"
    }
   ],
   "source": [
    "results3.portfolio_value.plot(label=\"gamma=1\")\n",
    "results2.portfolio_value.plot(label=\"moing gamma\")\n",
    "results.portfolio_value.plot(label=\"hard\")\n",
    "plt.legend()\n",
    "plt.yscale(\"log\")"
   ]
  },
  {
   "cell_type": "code",
   "execution_count": 135,
   "metadata": {},
   "outputs": [
    {
     "name": "stderr",
     "output_type": "stream",
     "text": [
      "/Users/kasper/Documents/Stanford/Research/My papers/markowitz/reference_implementation/markowitz-reference/.venv/lib/python3.9/site-packages/matplotlib/axis.py:1769: FutureWarning: Period with BDay freq is deprecated and will be removed in a future version. Use a DatetimeIndex with BDay freq instead.\n",
      "  ret = self.converter.convert(x, self.units, self)\n",
      "/Users/kasper/Documents/Stanford/Research/My papers/markowitz/reference_implementation/markowitz-reference/.venv/lib/python3.9/site-packages/matplotlib/axis.py:1769: FutureWarning: PeriodDtype[B] is deprecated and will be removed in a future version. Use a DatetimeIndex with freq='B' instead\n",
      "  ret = self.converter.convert(x, self.units, self)\n",
      "/Users/kasper/Documents/Stanford/Research/My papers/markowitz/reference_implementation/markowitz-reference/.venv/lib/python3.9/site-packages/matplotlib/axis.py:1495: FutureWarning: Period with BDay freq is deprecated and will be removed in a future version. Use a DatetimeIndex with BDay freq instead.\n",
      "  return self.major.locator()\n",
      "/Users/kasper/Documents/Stanford/Research/My papers/markowitz/reference_implementation/markowitz-reference/.venv/lib/python3.9/site-packages/matplotlib/axis.py:1495: FutureWarning: PeriodDtype[B] is deprecated and will be removed in a future version. Use a DatetimeIndex with freq='B' instead\n",
      "  return self.major.locator()\n",
      "/Users/kasper/Documents/Stanford/Research/My papers/markowitz/reference_implementation/markowitz-reference/.venv/lib/python3.9/site-packages/matplotlib/ticker.py:216: FutureWarning: Period with BDay freq is deprecated and will be removed in a future version. Use a DatetimeIndex with BDay freq instead.\n",
      "  return [self(value, i) for i, value in enumerate(values)]\n",
      "/Users/kasper/Documents/Stanford/Research/My papers/markowitz/reference_implementation/markowitz-reference/.venv/lib/python3.9/site-packages/matplotlib/axis.py:1769: FutureWarning: PeriodDtype[B] is deprecated and will be removed in a future version. Use a DatetimeIndex with freq='B' instead\n",
      "  ret = self.converter.convert(x, self.units, self)\n",
      "/Users/kasper/Documents/Stanford/Research/My papers/markowitz/reference_implementation/markowitz-reference/.venv/lib/python3.9/site-packages/matplotlib/axis.py:1495: FutureWarning: Period with BDay freq is deprecated and will be removed in a future version. Use a DatetimeIndex with BDay freq instead.\n",
      "  return self.major.locator()\n",
      "/Users/kasper/Documents/Stanford/Research/My papers/markowitz/reference_implementation/markowitz-reference/.venv/lib/python3.9/site-packages/matplotlib/axis.py:1495: FutureWarning: PeriodDtype[B] is deprecated and will be removed in a future version. Use a DatetimeIndex with freq='B' instead\n",
      "  return self.major.locator()\n",
      "/Users/kasper/Documents/Stanford/Research/My papers/markowitz/reference_implementation/markowitz-reference/.venv/lib/python3.9/site-packages/matplotlib/ticker.py:216: FutureWarning: Period with BDay freq is deprecated and will be removed in a future version. Use a DatetimeIndex with BDay freq instead.\n",
      "  return [self(value, i) for i, value in enumerate(values)]\n"
     ]
    },
    {
     "data": {
      "text/plain": [
       "<Axes: >"
      ]
     },
     "execution_count": 135,
     "metadata": {},
     "output_type": "execute_result"
    },
    {
     "data": {
      "image/png": "[encoded data removed]",
      "text/plain": [
       "<Figure size 640x480 with 1 Axes>"
      ]
     },
     "metadata": {},
     "output_type": "display_data"
    }
   ],
   "source": [
    "gamma_risks.plot()\n",
    "gamma_risks3.plot()\n"
   ]
  },
  {
   "cell_type": "code",
   "execution_count": 122,
   "metadata": {},
   "outputs": [
    {
     "data": {
      "text/plain": [
       "0.7769771528998243"
      ]
     },
     "execution_count": 122,
     "metadata": {},
     "output_type": "execute_result"
    }
   ],
   "source": [
    "(np.array(risks) <= 0.10).mean()"
   ]
  },
  {
   "cell_type": "code",
   "execution_count": 116,
   "metadata": {},
   "outputs": [
    {
     "name": "stdout",
     "output_type": "stream",
     "text": [
      "mean: 0.17344025387119444\n",
      "volatility: 0.12064983093961906\n",
      "max drawdown: -0.49037035995050804\n",
      "max leverage: 7.550241878147584\n",
      "sharpe: 1.4627875923226943\n"
     ]
    }
   ],
   "source": [
    "print(f\"mean: {results2.portfolio_returns.mean() * 252}\")\n",
    "print(f\"volatility: {results2.portfolio_returns.std() * np.sqrt(252)}\")\n",
    "print(f\"max drawdown: {results2.max_drawdown}\")\n",
    "print(f\"max leverage: {results2.max_leverage}\")\n",
    "print(f\"sharpe: {results2.sharpe}\")"
   ]
  },
  {
   "cell_type": "code",
   "execution_count": 128,
   "metadata": {},
   "outputs": [
    {
     "name": "stdout",
     "output_type": "stream",
     "text": [
      "mean: 0.12792709614439182\n",
      "volatility: 0.12783809076710367\n",
      "max drawdown: -0.756279240047702\n",
      "max leverage: 7.62225670231688\n",
      "sharpe: 1.0182639087089391\n"
     ]
    }
   ],
   "source": [
    "print(f\"mean: {results3.portfolio_returns.mean() * 252}\")\n",
    "print(f\"volatility: {results3.portfolio_returns.std() * np.sqrt(252)}\")\n",
    "print(f\"max drawdown: {results3.max_drawdown}\")\n",
    "print(f\"max leverage: {results3.max_leverage}\")\n",
    "print(f\"sharpe: {results3.sharpe}\")"
   ]
  },
  {
   "cell_type": "code",
   "execution_count": 117,
   "metadata": {},
   "outputs": [
    {
     "name": "stdout",
     "output_type": "stream",
     "text": [
      "mean: 0.10690152368482325\n",
      "volatility: 0.1249899715015102\n",
      "max drawdown: -0.6974539553309929\n",
      "max leverage: 7.222564873298741\n",
      "sharpe: 0.8702956470609065\n"
     ]
    }
   ],
   "source": [
    "print(f\"mean: {results.portfolio_returns.mean() * 252}\")\n",
    "print(f\"volatility: {results.portfolio_returns.std() * np.sqrt(252)}\")\n",
    "print(f\"max drawdown: {results.max_drawdown}\")\n",
    "print(f\"max leverage: {results.max_leverage}\")\n",
    "print(f\"sharpe: {results.sharpe}\")"
   ]
  },
  {
   "cell_type": "code",
   "execution_count": null,
   "metadata": {},
   "outputs": [],
   "source": [
    "results2"
   ]
  },
  {
   "cell_type": "code",
   "execution_count": 98,
   "metadata": {},
   "outputs": [
    {
     "data": {
      "text/plain": [
       "0.1271842267963638"
      ]
     },
     "execution_count": 98,
     "metadata": {},
     "output_type": "execute_result"
    }
   ],
   "source": [
    "results.volatility"
   ]
  },
  {
   "cell_type": "code",
   "execution_count": 50,
   "metadata": {},
   "outputs": [],
   "source": []
  },
  {
   "cell_type": "code",
   "execution_count": 47,
   "metadata": {},
   "outputs": [
    {
     "data": {
      "text/plain": [
       "[<matplotlib.lines.Line2D at 0x7fd771042ac0>]"
      ]
     },
     "execution_count": 47,
     "metadata": {},
     "output_type": "execute_result"
    },
    {
     "data": {
      "image/png": "[encoded data removed]",
      "text/plain": [
       "<Figure size 640x480 with 1 Axes>"
      ]
     },
     "metadata": {},
     "output_type": "display_data"
    }
   ],
   "source": [
    "plt.plot(duals)"
   ]
  }
 ],
 "metadata": {
  "kernelspec": {
   "display_name": ".venv",
   "language": "python",
   "name": "python3"
  },
  "language_info": {
   "codemirror_mode": {
    "name": "ipython",
    "version": 3
   },
   "file_extension": ".py",
   "mimetype": "text/x-python",
   "name": "python",
   "nbconvert_exporter": "python",
   "pygments_lexer": "ipython3",
   "version": "3.9.12"
  },
  "orig_nbformat": 4
 },
 "nbformat": 4,
 "nbformat_minor": 2
}
