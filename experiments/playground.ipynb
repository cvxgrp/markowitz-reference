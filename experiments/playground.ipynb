{
 "cells": [
  {
   "cell_type": "code",
   "execution_count": 1,
   "metadata": {},
   "outputs": [],
   "source": [
    "import cvxpy as cp\n",
    "from cvx.markowitz.backtest import *\n",
    "\n",
    "%load_ext autoreload\n",
    "%autoreload 2"
   ]
  },
  {
   "cell_type": "code",
   "execution_count": 97,
   "metadata": {},
   "outputs": [
    {
     "name": "stdout",
     "output_type": "stream",
     "text": [
      "NONNEGATIVE\n"
     ]
    }
   ],
   "source": [
    "markowitz = Markowitz(n_assets=10, n_factors=3)"
   ]
  },
  {
   "cell_type": "code",
   "execution_count": 95,
   "metadata": {},
   "outputs": [
    {
     "data": {
      "text/plain": [
       "True"
      ]
     },
     "execution_count": 95,
     "metadata": {},
     "output_type": "execute_result"
    }
   ],
   "source": [
    "markowitz.parameterized_problem.problem.is_dcp()"
   ]
  },
  {
   "cell_type": "code",
   "execution_count": 42,
   "metadata": {},
   "outputs": [
    {
     "data": {
      "text/plain": [
       "{'factor_mean': Parameter((3,)),\n",
       " 'factor_weights': Parameter((3,)),\n",
       " 'idio_mean': Parameter((10,)),\n",
       " 'risk_free': Parameter(()),\n",
       " 'rho_mean': Parameter((10,), nonneg=True),\n",
       " 'gamma_risk': Parameter((), nonneg=True),\n",
       " 'factor_covariance_chol': Parameter((3, 3)),\n",
       " 'idio_vola': Parameter((10,)),\n",
       " 'volas_times_sqrt_rho': Parameter((10,)),\n",
       " 'risk_target': Parameter((), nonneg=True),\n",
       " 'gamma_hold': Parameter((), nonneg=True),\n",
       " 'kappa_short': Parameter((10,), nonneg=True),\n",
       " 'kappa_brw': Parameter((), nonneg=True),\n",
       " 'gamma_trade': Parameter((), nonneg=True),\n",
       " 'kappa_bas': Parameter((10,), nonneg=True),\n",
       " 'asset_weights_prev': Parameter((10,)),\n",
       " 'kappa_mi': Parameter((10,), nonneg=True),\n",
       " 'gamma_turn': Parameter((), nonneg=True),\n",
       " 'turnover_limit': Parameter((), nonneg=True),\n",
       " 'leverage_limit': Parameter((), nonneg=True),\n",
       " 'weights_lower': Parameter((10,)),\n",
       " 'weights_upper': Parameter((10,)),\n",
       " 'cash_lower': Parameter(()),\n",
       " 'cash_upper': Parameter(())}"
      ]
     },
     "execution_count": 42,
     "metadata": {},
     "output_type": "execute_result"
    }
   ],
   "source": [
    "markowitz.parameterized_problem.varia"
   ]
  },
  {
   "cell_type": "code",
   "execution_count": null,
   "metadata": {},
   "outputs": [],
   "source": []
  },
  {
   "cell_type": "code",
   "execution_count": 88,
   "metadata": {},
   "outputs": [],
   "source": [
    "import cvxpy as cp\n",
    "\n",
    "n_assets = 10\n",
    "n_factors = 3\n",
    "\n",
    "factor_mean = cp.Parameter(n_factors)\n",
    "factor_covariance_chol = cp.Parameter((n_factors, n_factors))\n",
    "idio_mean = cp.Parameter(n_assets)\n",
    "idio_vola = cp.Parameter(n_assets)\n",
    "rho_mean = cp.Parameter(n_assets, nonneg=True)\n",
    "rho_covariance = cp.Parameter(nonneg=True)\n",
    "risk_free = cp.Parameter()\n",
    "exposures = cp.Parameter((n_assets, n_factors))\n",
    "kappa_short = cp.Parameter(n_assets, nonneg=True)\n",
    "kappa_brw = cp.Parameter(nonneg=True)\n",
    "kappa_bas = cp.Parameter(n_assets, nonneg=True)\n",
    "kappa_mi = cp.Parameter(n_assets, nonneg=True)\n",
    "gamma_risk = cp.Parameter(nonneg=True)\n",
    "gamma_hold = cp.Parameter(nonneg=True)\n",
    "gamma_trade = cp.Parameter(nonneg=True)\n",
    "gamma_turn = cp.Parameter(nonneg=True)\n",
    "risk_target = cp.Parameter(nonneg=True)\n",
    "turnover_limit = cp.Parameter(nonneg=True)\n",
    "leverage_limit = cp.Parameter(nonneg=True)\n",
    "cash_lower = cp.Parameter(nonneg=True)\n",
    "cash_upper = cp.Parameter(nonneg=True)\n",
    "asset_lower = cp.Parameter(n_assets, nonneg=True)\n",
    "asset_upper = cp.Parameter(n_assets, nonneg=True)\n",
    "trade_lower = cp.Parameter(n_assets, nonneg=True)\n",
    "trade_upper = cp.Parameter(n_assets, nonneg=True)\n",
    "\n",
    "\n",
    "asset_weights = cp.Variable(n_assets)\n",
    "asset_weights_prev = cp.Parameter(n_assets)\n",
    "factor_weights = cp.Parameter(n_factors)\n",
    "cash_weight = cp.Variable()\n",
    "cash_weight_prev = cp.Parameter()\n",
    "\n",
    "return_wc = (\n",
    "    factor_mean @ factor_weights \n",
    "    + idio_mean @ asset_weights\n",
    "    + risk_free * cash_weight \n",
    "    - rho_mean @ cp.abs(asset_weights)\n",
    ")\n",
    "risk = cp.norm2(\n",
    "            cp.hstack(\n",
    "                [\n",
    "                    cp.norm2(factor_covariance_chol@factor_weights),\n",
    "                    cp.norm2(cp.multiply(idio_vola, asset_weights)),\n",
    "                ]\n",
    "            )\n",
    "        )\n",
    "# vola = cp.sum(\n",
    "#     cp.power(exposures@factor_covariance_chol, 1/2), axis=1) + idio_vola\n",
    "vola = cp.CallbackParam(callback=lambda:\n",
    "                                cp.sum(\n",
    "                                    cp.power(exposures@factor_covariance_chol, 1/2), axis=1) + idio_vola,\n",
    "                                 shape=asset_weights.shape, \n",
    "                                 nonneg=True)\n",
    "risk_wc = cp.norm2(\n",
    "            cp.hstack(\n",
    "                [\n",
    "                    risk, \n",
    "                    rho_covariance**0.5 * vola @ cp.abs(asset_weights)\n",
    "                    ]\n",
    "            )\n",
    "        )\n",
    "\n",
    "trades = asset_weights - asset_weights_prev\n",
    "turnover = cp.norm1(trades) \n",
    "leverage = cp.norm1(asset_weights)\n",
    "\n",
    "holding_cost = kappa_short @ cp.pos(-asset_weights) + kappa_brw * cp.pos(-cash_weight)\n",
    "trading_cost = kappa_bas @ cp.abs(trades) + kappa_mi @ cp.power(cp.abs(trades), 3/2)\n",
    "\n",
    "objective = (\n",
    "    return_wc\n",
    "    - gamma_risk * cp.pos(risk_wc - risk_target)\n",
    "    - gamma_hold * holding_cost\n",
    "    - gamma_trade * trading_cost\n",
    "    - gamma_turn * cp.pos(turnover - turnover_limit)\n",
    ")\n",
    "\n",
    "constraints = [\n",
    "    cp.sum(asset_weights) + cash_weight == 1,    \n",
    "    cash_weight == cash_weight_prev - cp.sum(trades),\n",
    "    factor_weights == exposures.T @ asset_weights,\n",
    "    cash_lower <= cash_weight, cash_weight <= cash_upper,\n",
    "    asset_lower <= asset_weights, asset_weights <= asset_upper,\n",
    "    trade_lower <= trades, trades <= trade_upper,\n",
    "    leverage <= leverage_limit,\n",
    "]\n",
    "\n",
    "problem = cp.Problem(cp.Maximize(objective), constraints)\n",
    "# problem.solve()"
   ]
  },
  {
   "cell_type": "code",
   "execution_count": 93,
   "metadata": {},
   "outputs": [
    {
     "data": {
      "text/plain": [
       "'UNKNOWN'"
      ]
     },
     "execution_count": 93,
     "metadata": {},
     "output_type": "execute_result"
    }
   ],
   "source": [
    "vola.sign"
   ]
  },
  {
   "cell_type": "code",
   "execution_count": 92,
   "metadata": {},
   "outputs": [
    {
     "data": {
      "text/plain": [
       "'UNKNOWN'"
      ]
     },
     "execution_count": 92,
     "metadata": {},
     "output_type": "execute_result"
    }
   ],
   "source": [
    "risk_wc.curvature"
   ]
  },
  {
   "cell_type": "code",
   "execution_count": 18,
   "metadata": {},
   "outputs": [
    {
     "data": {
      "text/plain": [
       "(10,)"
      ]
     },
     "execution_count": 18,
     "metadata": {},
     "output_type": "execute_result"
    }
   ],
   "source": [
    "a = cp.Parameter(10)\n",
    "b = cp.Parameter()\n",
    "\n",
    "c = cp.CallbackParam(shape=10, callback=lambda:\n",
    "                     a.value*b.value, name=\"volas_times_sqrt_rho\")\n",
    "\n",
    "c.shape"
   ]
  },
  {
   "cell_type": "code",
   "execution_count": null,
   "metadata": {},
   "outputs": [],
   "source": [
    "volas_times_sqrt_rho = cp.CallbackParam(callback=lambda:\n",
    "                                                variances.value**0.5 * rho_covariance.value**0.5, name=\"volas_times_sqrt_rho\")"
   ]
  },
  {
   "cell_type": "code",
   "execution_count": 18,
   "metadata": {},
   "outputs": [],
   "source": [
    "a = cp.Parameter()\n",
    "b = cp.Parameter()\n",
    "\n",
    "c = a*b\n",
    "\n",
    "d = cp.CallbackParam(callback=lambda: c.value*b.value)"
   ]
  },
  {
   "cell_type": "code",
   "execution_count": 19,
   "metadata": {},
   "outputs": [],
   "source": [
    "a.value=3\n",
    "b.value=4"
   ]
  },
  {
   "cell_type": "code",
   "execution_count": 22,
   "metadata": {},
   "outputs": [
    {
     "data": {
      "text/plain": [
       "Expression(CONVEX, NONNEGATIVE, ())"
      ]
     },
     "execution_count": 22,
     "metadata": {},
     "output_type": "execute_result"
    }
   ],
   "source": [
    "x = cp.Variable()\n",
    "\n"
   ]
  },
  {
   "cell_type": "code",
   "execution_count": 21,
   "metadata": {},
   "outputs": [
    {
     "data": {
      "text/plain": [
       "12"
      ]
     },
     "execution_count": 21,
     "metadata": {},
     "output_type": "execute_result"
    }
   ],
   "source": [
    "c.value"
   ]
  }
 ],
 "metadata": {
  "kernelspec": {
   "display_name": ".venv",
   "language": "python",
   "name": "python3"
  },
  "language_info": {
   "codemirror_mode": {
    "name": "ipython",
    "version": 3
   },
   "file_extension": ".py",
   "mimetype": "text/x-python",
   "name": "python",
   "nbconvert_exporter": "python",
   "pygments_lexer": "ipython3",
   "version": "3.9.12"
  },
  "orig_nbformat": 4
 },
 "nbformat": 4,
 "nbformat_minor": 2
}
